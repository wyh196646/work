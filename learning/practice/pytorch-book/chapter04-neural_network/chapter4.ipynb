{
 "cells": [
  {
   "cell_type": "markdown",
   "metadata": {},
   "source": [
    "## 第四章 神经网络工具箱nn\n",
    "上一章中提到，使用autograd可实现深度学习模型，但其抽象程度较低，如果用其来实现深度学习模型，则需要编写的代码量极大。在这种情况下，torch.nn应运而生，其是专门为深度学习而设计的模块。torch.nn的核心数据结构是`Module`，它是一个抽象概念，既可以表示神经网络中的某个层（layer），也可以表示一个包含很多层的神经网络。在实际使用中，最常见的做法是继承`nn.Module`，撰写自己的网络/层。下面先来看看如何用nn.Module实现自己的全连接层。全连接层，又名仿射层，输出$\\textbf{y}$和输入$\\textbf{x}$满足$\\textbf{y=Wx+b}$，$\\textbf{W}$和$\\textbf{b}$是可学习的参数。"
   ]
  },
  {
   "cell_type": "code",
   "execution_count": null,
   "metadata": {},
   "outputs": [],
   "source": []
  },
  {
   "cell_type": "code",
   "execution_count": 6,
   "metadata": {},
   "outputs": [],
   "source": [
    "import torch as t\n",
    "from torch import nn"
   ]
  },
  {
   "cell_type": "code",
   "execution_count": 7,
   "metadata": {},
   "outputs": [],
   "source": [
    "class Linear(nn.Module): # 继承nn.Module\n",
    "    def __init__(self, in_features, out_features):\n",
    "        super(Linear, self).__init__() # 等价于nn.Module.__init__(self)\n",
    "        self.w = nn.Parameter(t.randn(in_features, out_features))\n",
    "        self.b = nn.Parameter(t.randn(out_features))\n",
    "    \n",
    "    def forward(self, x):\n",
    "        x = x.mm(self.w) # x.@(self.w)\n",
    "        return x + self.b.expand_as(x)"
   ]
  },
  {
   "cell_type": "code",
   "execution_count": 8,
   "metadata": {},
   "outputs": [
    {
     "data": {
      "text/plain": [
       "tensor([[-2.4421, -0.2355,  0.5636],\n",
       "        [-1.4299, -1.0916, -1.9299]])"
      ]
     },
     "execution_count": 8,
     "metadata": {},
     "output_type": "execute_result"
    }
   ],
   "source": [
    "layer = Linear(4,3)\n",
    "input = t.randn(2,4)\n",
    "output = layer(input)\n",
    "output"
   ]
  },
  {
   "cell_type": "code",
   "execution_count": 9,
   "metadata": {},
   "outputs": [
    {
     "name": "stdout",
     "output_type": "stream",
     "text": [
      "w Parameter containing:\n",
      "tensor([[ 0.0481, -0.5937, -1.0651],\n",
      "        [ 0.5725,  0.1317, -0.0920],\n",
      "        [ 0.7409,  0.3163, -1.3940],\n",
      "        [ 0.1598, -0.3302,  0.3646]])\n",
      "b Parameter containing:\n",
      "tensor([-1.5881, -0.8368, -0.5220])\n"
     ]
    }
   ],
   "source": [
    "for name, parameter in layer.named_parameters():\n",
    "    print(name, parameter) # w and b "
   ]
  },
  {
   "cell_type": "markdown",
   "metadata": {},
   "source": [
    "可见，全连接层的实现非常简单，其代码量不超过10行，但需注意以下几点：\n",
    "- 自定义层`Linear`必须继承`nn.Module`，并且在其构造函数中需调用`nn.Module`的构造函数，即`super(Linear, self).__init__()` 或`nn.Module.__init__(self)`，推荐使用第一种用法，尽管第二种写法更直观。\n",
    "- 在构造函数`__init__`中必须自己定义可学习的参数，并封装成`Parameter`，如在本例中我们把`w`和`b`封装成`parameter`。`parameter`是一种特殊的`Tensor`，但其默认需要求导（requires_grad = True），感兴趣的读者可以通过`nn.Parameter??`，查看`Parameter`类的源代码。\n",
    "- `forward`函数实现前向传播过程，其输入可以是一个或多个tensor。\n",
    "- 无需写反向传播函数，nn.Module能够利用autograd自动实现反向传播，这点比Function简单许多。\n",
    "- 使用时，直观上可将layer看成数学概念中的函数，调用layer(input)即可得到input对应的结果。它等价于`layers.__call__(input)`，在`__call__`函数中，主要调用的是 `layer.forward(x)`，另外还对钩子做了一些处理。所以在实际使用中应尽量使用`layer(x)`而不是使用`layer.forward(x)`，关于钩子技术将在下文讲解。\n",
    "- `Module`中的可学习参数可以通过`named_parameters()`或者`parameters()`返回迭代器，前者会给每个parameter都附上名字，使其更具有辨识度。\n",
    "\n",
    "可见利用Module实现的全连接层，比利用`Function`实现的更为简单，因其不再需要写反向传播函数。"
   ]
  },
  {
   "cell_type": "markdown",
   "metadata": {},
   "source": [
    "Module能够自动检测到自己的`Parameter`，并将其作为学习参数。除了`parameter`之外，Module还包含子`Module`，主Module能够递归查找子`Module`中的`parameter`。下面再来看看稍微复杂一点的网络，多层感知机。\n",
    "\n",
    "多层感知机的网络结构如图4-1所示，它由两个全连接层组成，采用$sigmoid$函数作为激活函数，图中没有画出。\n",
    "![图4-1；多层感知机](imgs/multi_perceptron.png)"
   ]
  },
  {
   "cell_type": "code",
   "execution_count": 10,
   "metadata": {},
   "outputs": [],
   "source": [
    "class Perceptron(nn.Module):\n",
    "    def __init__(self, in_features, hidden_features, out_features):\n",
    "        nn.Module.__init__(self)\n",
    "        self.layer1 = Linear(in_features, hidden_features) # 此处的Linear是前面自定义的全连接层\n",
    "        self.layer2 = Linear(hidden_features, out_features)\n",
    "    def forward(self,x):\n",
    "        x = self.layer1(x)\n",
    "        x = t.sigmoid(x)\n",
    "        return self.layer2(x)"
   ]
  },
  {
   "cell_type": "code",
   "execution_count": 11,
   "metadata": {},
   "outputs": [
    {
     "name": "stdout",
     "output_type": "stream",
     "text": [
      "layer1.w torch.Size([3, 4])\n",
      "layer1.b torch.Size([4])\n",
      "layer2.w torch.Size([4, 1])\n",
      "layer2.b torch.Size([1])\n"
     ]
    }
   ],
   "source": [
    "perceptron = Perceptron(3,4,1)\n",
    "for name, param in perceptron.named_parameters():\n",
    "    print(name, param.size())"
   ]
  },
  {
   "cell_type": "markdown",
   "metadata": {},
   "source": [
    "可见，即使是稍复杂的多层感知机，其实现依旧很简单。 构造函数`__init__`中，可利用前面自定义的Linear层(module)，作为当前module对象的一个子module，它的可学习参数，也会成为当前module的可学习参数。\n",
    "\n",
    "module中parameter的命名规范：\n",
    "- 对于类似`self.param_name = nn.Parameter(t.randn(3, 4))`，命名为`param_name`\n",
    "- 对于子Module中的parameter，会其名字之前加上当前Module的名字。如对于`self.sub_module = SubModel()`，SubModel中有个parameter的名字叫做param_name，那么二者拼接而成的parameter name 就是`sub_module.param_name`。"
   ]
  },
  {
   "cell_type": "markdown",
   "metadata": {},
   "source": [
    "为方便用户使用，PyTorch实现了神经网络中绝大多数的layer，这些layer都继承于nn.Module，封装了可学习参数`parameter`，并实现了forward函数，且很多都专门针对GPU运算进行了CuDNN优化，其速度和性能都十分优异。本书不准备对nn.Module中的所有层进行详细介绍，具体内容读者可参照官方文档[^1]或在IPython/Jupyter中使用nn.layer?来查看。阅读文档时应主要关注以下几点：\n",
    "\n",
    "- 构造函数的参数，如nn.Linear(in_features, out_features, bias)，需关注这三个参数的作用。\n",
    "- 属性、可学习参数和子module。如nn.Linear中有`weight`和`bias`两个可学习参数，不包含子module。\n",
    "- 输入输出的形状，如nn.linear的输入形状是(N, input_features)，输出为(N，output_features)，N是batch_size。\n",
    "\n",
    "这些自定义layer对输入形状都有假设：输入的不是单个数据，而是一个batch。输入只有一个数据，则必须调用`tensor.unsqueeze(0)` 或 `tensor[None]`将数据伪装成batch_size=1的batch\n",
    "\n",
    "[^1]: http://pytorch.org/docs/nn.html"
   ]
  },
  {
   "cell_type": "markdown",
   "metadata": {},
   "source": [
    "下面将从应用层面出发，对一些常用的layer做简单介绍，更详细的用法请查看文档，这里只作概览参考。"
   ]
  },
  {
   "cell_type": "markdown",
   "metadata": {},
   "source": [
    "### 4.1 常用神经网络层\n",
    "#### 4.1.1 图像相关层\n",
    "\n",
    "图像相关层主要包括卷积层（Conv）、池化层（Pool）等，这些层在实际使用中可分为一维(1D)、二维(2D)、三维（3D），池化方式又分为平均池化（AvgPool）、最大值池化（MaxPool）、自适应池化（AdaptiveAvgPool）等。而卷积层除了常用的前向卷积之外，还有逆卷积（TransposeConv）。下面举例说明一些基础的使用。"
   ]
  },
  {
   "cell_type": "code",
   "execution_count": 12,
   "metadata": {},
   "outputs": [
    {
     "data": {
      "image/png": "[encoded data removed]",
      "text/plain": [
       "<PIL.PngImagePlugin.PngImageFile image mode=L size=200x200 at 0x7F1488054EB8>"
      ]
     },
     "execution_count": 12,
     "metadata": {},
     "output_type": "execute_result"
    }
   ],
   "source": [
    "from PIL import Image\n",
    "from torchvision.transforms import ToTensor, ToPILImage\n",
    "to_tensor = ToTensor() # img -> tensor\n",
    "to_pil = ToPILImage()\n",
    "lena = Image.open('imgs/lena.png')\n",
    "lena"
   ]
  },
  {
   "cell_type": "code",
   "execution_count": 13,
   "metadata": {},
   "outputs": [
    {
     "data": {
      "image/png": "[encoded data removed]",
      "text/plain": [
       "<PIL.Image.Image image mode=L size=198x198 at 0x7F14B098D160>"
      ]
     },
     "execution_count": 13,
     "metadata": {},
     "output_type": "execute_result"
    }
   ],
   "source": [
    "# 输入是一个batch，batch_size＝1\n",
    "input = to_tensor(lena).unsqueeze(0) \n",
    "\n",
    "# 锐化卷积核\n",
    "kernel = t.ones(3, 3)/-9.\n",
    "kernel[1][1] = 1\n",
    "conv = nn.Conv2d(1, 1, (3, 3), 1, bias=False)\n",
    "conv.weight.data = kernel.view(1, 1, 3, 3)\n",
    "\n",
    "out = conv(input)\n",
    "to_pil(out.data.squeeze(0))"
   ]
  },
  {
   "cell_type": "markdown",
   "metadata": {},
   "source": [
    "除了上述的使用，图像的卷积操作还有各种变体，具体可以参照此处动图[^2]介绍。\n",
    "[^2]: https://github.com/vdumoulin/conv_arithmetic/blob/master/README.md"
   ]
  },
  {
   "cell_type": "markdown",
   "metadata": {},
   "source": [
    "池化层可以看作是一种特殊的卷积层，用来下采样。但池化层没有可学习参数，其weight是固定的。"
   ]
  },
  {
   "cell_type": "code",
   "execution_count": 14,
   "metadata": {
    "scrolled": true
   },
   "outputs": [
    {
     "data": {
      "text/plain": [
       "[]"
      ]
     },
     "execution_count": 14,
     "metadata": {},
     "output_type": "execute_result"
    }
   ],
   "source": [
    "pool = nn.AvgPool2d(2,2)\n",
    "list(pool.parameters())"
   ]
  },
  {
   "cell_type": "code",
   "execution_count": 15,
   "metadata": {},
   "outputs": [
    {
     "data": {
      "image/png": "[encoded data removed]",
      "text/plain": [
       "<PIL.Image.Image image mode=L size=100x100 at 0x7F14880549E8>"
      ]
     },
     "execution_count": 15,
     "metadata": {},
     "output_type": "execute_result"
    }
   ],
   "source": [
    "out = pool(input)\n",
    "to_pil(out.data.squeeze(0))"
   ]
  },
  {
   "cell_type": "markdown",
   "metadata": {},
   "source": [
    "除了卷积层和池化层，深度学习中还将常用到以下几个层：\n",
    "- Linear：全连接层。\n",
    "- BatchNorm：批规范化层，分为1D、2D和3D。除了标准的BatchNorm之外，还有在风格迁移中常用到的InstanceNorm层。\n",
    "- Dropout：dropout层，用来防止过拟合，同样分为1D、2D和3D。\n",
    "下面通过例子来说明它们的使用。"
   ]
  },
  {
   "cell_type": "code",
   "execution_count": 16,
   "metadata": {
    "scrolled": true
   },
   "outputs": [
    {
     "data": {
      "text/plain": [
       "tensor([[ 0.6993, -1.1460,  0.5710, -0.2496],\n",
       "        [-0.1921,  0.8154, -0.3038,  0.1873]])"
      ]
     },
     "execution_count": 16,
     "metadata": {},
     "output_type": "execute_result"
    }
   ],
   "source": [
    "# 输入 batch_size=2，维度3\n",
    "input = t.randn(2, 3)\n",
    "linear = nn.Linear(3, 4)\n",
    "h = linear(input)\n",
    "h"
   ]
  },
  {
   "cell_type": "code",
   "execution_count": 17,
   "metadata": {
    "scrolled": true
   },
   "outputs": [
    {
     "data": {
      "text/plain": [
       "(tensor(1.00000e-07 *\n",
       "        [ 1.1921,  0.0000,  0.0000,  0.0000]),\n",
       " tensor([ 15.9992,  15.9998,  15.9992,  15.9966]))"
      ]
     },
     "execution_count": 17,
     "metadata": {},
     "output_type": "execute_result"
    }
   ],
   "source": [
    "# 4 channel，初始化标准差为4，均值为0\n",
    "bn = nn.BatchNorm1d(4)\n",
    "bn.weight.data = t.ones(4) * 4\n",
    "bn.bias.data = t.zeros(4)\n",
    "\n",
    "bn_out = bn(h)\n",
    "# 注意输出的均值和方差\n",
    "# 方差是标准差的平方，计算无偏方差分母会减1\n",
    "# 使用unbiased=False 分母不减1\n",
    "bn_out.mean(0), bn_out.var(0, unbiased=False)"
   ]
  },
  {
   "cell_type": "code",
   "execution_count": 18,
   "metadata": {},
   "outputs": [
    {
     "data": {
      "text/plain": [
       "tensor([[ 7.9998, -8.0000,  0.0000, -7.9992],\n",
       "        [-0.0000,  8.0000, -7.9998,  7.9992]])"
      ]
     },
     "execution_count": 18,
     "metadata": {},
     "output_type": "execute_result"
    }
   ],
   "source": [
    "# 每个元素以0.5的概率舍弃\n",
    "dropout = nn.Dropout(0.5)\n",
    "o = dropout(bn_out)\n",
    "o # 有一半左右的数变为0"
   ]
  },
  {
   "cell_type": "markdown",
   "metadata": {},
   "source": [
    "以上很多例子中都对module的属性直接操作，其大多数是可学习参数，一般会随着学习的进行而不断改变。实际使用中除非需要使用特殊的初始化，应尽量不要直接修改这些参数。"
   ]
  },
  {
   "cell_type": "markdown",
   "metadata": {},
   "source": [
    "#### 4.1.2 激活函数\n",
    "PyTorch实现了常见的激活函数，其具体的接口信息可参见官方文档[^3]，这些激活函数可作为独立的layer使用。这里将介绍最常用的激活函数ReLU，其数学表达式为：\n",
    "$$ReLU(x)=max(0,x)$$\n",
    "[^3]: http://pytorch.org/docs/nn.html#non-linear-activations"
   ]
  },
  {
   "cell_type": "code",
   "execution_count": 19,
   "metadata": {},
   "outputs": [
    {
     "name": "stdout",
     "output_type": "stream",
     "text": [
      "tensor([[ 1.2836,  2.0970, -0.0456],\n",
      "        [ 1.5909, -1.3795,  0.5264]])\n",
      "tensor([[ 1.2836,  2.0970,  0.0000],\n",
      "        [ 1.5909,  0.0000,  0.5264]])\n"
     ]
    }
   ],
   "source": [
    "relu = nn.ReLU(inplace=True)\n",
    "input = t.randn(2, 3)\n",
    "print(input)\n",
    "output = relu(input)\n",
    "print(output) # 小于0的都被截断为0\n",
    "# 等价于input.clamp(min=0)"
   ]
  },
  {
   "cell_type": "raw",
   "metadata": {},
   "source": [
    "ReLU函数有个inplace参数，如果设为True，它会把输出直接覆盖到输入中，这样可以节省内存/显存。之所以可以覆盖是因为在计算ReLU的反向传播时，只需根据输出就能够推算出反向传播的梯度。但是只有少数的autograd操作支持inplace操作（如tensor.sigmoid_()），除非你明确地知道自己在做什么，否则一般不要使用inplace操作。"
   ]
  },
  {
   "cell_type": "markdown",
   "metadata": {},
   "source": [
    "在以上的例子中，基本上都是将每一层的输出直接作为下一层的输入，这种网络称为前馈传播网络（feedforward neural network）。对于此类网络如果每次都写复杂的forward函数会有些麻烦，在此就有两种简化方式，ModuleList和Sequential。其中Sequential是一个特殊的module，它包含几个子Module，前向传播时会将输入一层接一层的传递下去。ModuleList也是一个特殊的module，可以包含几个子module，可以像用list一样使用它，但不能直接把输入传给ModuleList。下面举例说明。"
   ]
  },
  {
   "cell_type": "code",
   "execution_count": 20,
   "metadata": {
    "scrolled": false
   },
   "outputs": [
    {
     "name": "stdout",
     "output_type": "stream",
     "text": [
      "net1: Sequential(\n",
      "  (conv): Conv2d(3, 3, kernel_size=(3, 3), stride=(1, 1))\n",
      "  (batchnorm): BatchNorm2d(3, eps=1e-05, momentum=0.1, affine=True, track_running_stats=True)\n",
      "  (activation_layer): ReLU()\n",
      ")\n",
      "net2: Sequential(\n",
      "  (0): Conv2d(3, 3, kernel_size=(3, 3), stride=(1, 1))\n",
      "  (1): BatchNorm2d(3, eps=1e-05, momentum=0.1, affine=True, track_running_stats=True)\n",
      "  (2): ReLU()\n",
      ")\n",
      "net3: Sequential(\n",
      "  (conv1): Conv2d(3, 3, kernel_size=(3, 3), stride=(1, 1))\n",
      "  (bn1): BatchNorm2d(3, eps=1e-05, momentum=0.1, affine=True, track_running_stats=True)\n",
      "  (relu1): ReLU()\n",
      ")\n"
     ]
    }
   ],
   "source": [
    "# Sequential的三种写法\n",
    "net1 = nn.Sequential()\n",
    "net1.add_module('conv', nn.Conv2d(3, 3, 3))\n",
    "net1.add_module('batchnorm', nn.BatchNorm2d(3))\n",
    "net1.add_module('activation_layer', nn.ReLU())\n",
    "\n",
    "net2 = nn.Sequential(\n",
    "        nn.Conv2d(3, 3, 3),\n",
    "        nn.BatchNorm2d(3),\n",
    "        nn.ReLU()\n",
    "        )\n",
    "\n",
    "from collections import OrderedDict\n",
    "net3= nn.Sequential(OrderedDict([\n",
    "          ('conv1', nn.Conv2d(3, 3, 3)),\n",
    "          ('bn1', nn.BatchNorm2d(3)),\n",
    "          ('relu1', nn.ReLU())\n",
    "        ]))\n",
    "print('net1:', net1)\n",
    "print('net2:', net2)\n",
    "print('net3:', net3)"
   ]
  },
  {
   "cell_type": "code",
   "execution_count": 21,
   "metadata": {},
   "outputs": [
    {
     "data": {
      "text/plain": [
       "(Conv2d(3, 3, kernel_size=(3, 3), stride=(1, 1)),\n",
       " Conv2d(3, 3, kernel_size=(3, 3), stride=(1, 1)),\n",
       " Conv2d(3, 3, kernel_size=(3, 3), stride=(1, 1)))"
      ]
     },
     "execution_count": 21,
     "metadata": {},
     "output_type": "execute_result"
    }
   ],
   "source": [
    "# 可根据名字或序号取出子module\n",
    "net1.conv, net2[0], net3.conv1"
   ]
  },
  {
   "cell_type": "code",
   "execution_count": 22,
   "metadata": {},
   "outputs": [],
   "source": [
    "input = t.rand(1, 3, 4, 4)\n",
    "output = net1(input)\n",
    "output = net2(input)\n",
    "output = net3(input)\n",
    "output = net3.relu1(net1.batchnorm(net1.conv(input)))"
   ]
  },
  {
   "cell_type": "code",
   "execution_count": 23,
   "metadata": {},
   "outputs": [],
   "source": [
    "modellist = nn.ModuleList([nn.Linear(3,4), nn.ReLU(), nn.Linear(4,2)])\n",
    "input = t.randn(1, 3)\n",
    "for model in modellist:\n",
    "    input = model(input)\n",
    "# 下面会报错,因为modellist没有实现forward方法\n",
    "# output = modelist(input)"
   ]
  },
  {
   "cell_type": "markdown",
   "metadata": {},
   "source": [
    "看到这里，读者可能会问，为何不直接使用Python中自带的list，而非要多此一举呢？这是因为`ModuleList`是`Module`的子类，当在`Module`中使用它的时候，就能自动识别为子module。\n",
    "\n",
    "下面举例说明。"
   ]
  },
  {
   "cell_type": "code",
   "execution_count": 24,
   "metadata": {},
   "outputs": [
    {
     "data": {
      "text/plain": [
       "MyModule(\n",
       "  (module_list): ModuleList(\n",
       "    (0): Conv2d(3, 3, kernel_size=(3, 3), stride=(1, 1))\n",
       "    (1): ReLU()\n",
       "  )\n",
       ")"
      ]
     },
     "execution_count": 24,
     "metadata": {},
     "output_type": "execute_result"
    }
   ],
   "source": [
    "class MyModule(nn.Module):\n",
    "    def __init__(self):\n",
    "        super(MyModule, self).__init__()\n",
    "        self.list = [nn.Linear(3, 4), nn.ReLU()]\n",
    "        self.module_list = nn.ModuleList([nn.Conv2d(3, 3, 3), nn.ReLU()])\n",
    "    def forward(self):\n",
    "        pass\n",
    "model = MyModule()\n",
    "model"
   ]
  },
  {
   "cell_type": "code",
   "execution_count": 25,
   "metadata": {},
   "outputs": [
    {
     "name": "stdout",
     "output_type": "stream",
     "text": [
      "module_list.0.weight torch.Size([3, 3, 3, 3])\n",
      "module_list.0.bias torch.Size([3])\n"
     ]
    }
   ],
   "source": [
    "for name, param in model.named_parameters():\n",
    "    print(name, param.size())"
   ]
  },
  {
   "cell_type": "markdown",
   "metadata": {},
   "source": [
    "可见，list中的子module并不能被主module所识别，而ModuleList中的子module能够被主module所识别。这意味着如果用list保存子module，将无法调整其参数，因其未加入到主module的参数中。"
   ]
  },
  {
   "cell_type": "markdown",
   "metadata": {},
   "source": [
    "除ModuleList之外还有ParameterList，其是一个可以包含多个parameter的类list对象。在实际应用中，使用方式与ModuleList类似。如果在构造函数`__init__`中用到list、tuple、dict等对象时，一定要思考是否应该用ModuleList或ParameterList代替。"
   ]
  },
  {
   "cell_type": "markdown",
   "metadata": {},
   "source": [
    "#### 4.1.3 循环神经网络层(RNN)\n",
    "近些年随着深度学习和自然语言处理的结合加深，RNN的使用也越来越多，关于RNN的基础知识，推荐阅读colah的文章[^4]入门。PyTorch中实现了如今最常用的三种RNN：RNN（vanilla RNN）、LSTM和GRU。此外还有对应的三种RNNCell。\n",
    "\n",
    "RNN和RNNCell层的区别在于前者一次能够处理整个序列，而后者一次只处理序列中一个时间点的数据，前者封装更完备更易于使用，后者更具灵活性。实际上RNN层的一种后端实现方式就是调用RNNCell来实现的。\n",
    "[^4]: http://colah.github.io/posts/2015-08-Understanding-LSTMs/"
   ]
  },
  {
   "cell_type": "code",
   "execution_count": 26,
   "metadata": {
    "scrolled": true
   },
   "outputs": [
    {
     "data": {
      "text/plain": [
       "tensor([[[-0.3610, -0.1643,  0.1631],\n",
       "         [-0.0613, -0.4937, -0.1642],\n",
       "         [ 0.5080, -0.4175,  0.2502]],\n",
       "\n",
       "        [[-0.0703, -0.0393, -0.0429],\n",
       "         [ 0.2085, -0.3005, -0.2686],\n",
       "         [ 0.1482, -0.4728,  0.1425]]])"
      ]
     },
     "execution_count": 26,
     "metadata": {},
     "output_type": "execute_result"
    }
   ],
   "source": [
    "t.manual_seed(1000)\n",
    "# 输入：batch_size=3，序列长度都为2，序列中每个元素占4维\n",
    "input = t.randn(2, 3, 4)\n",
    "# lstm输入向量4维，隐藏元3，1层\n",
    "lstm = nn.LSTM(4, 3, 1)\n",
    "# 初始状态：1层，batch_size=3，3个隐藏元\n",
    "h0 = t.randn(1, 3, 3)\n",
    "c0 = t.randn(1, 3, 3)\n",
    "out, hn = lstm(input, (h0, c0))\n",
    "out"
   ]
  },
  {
   "cell_type": "code",
   "execution_count": 27,
   "metadata": {
    "scrolled": true
   },
   "outputs": [
    {
     "data": {
      "text/plain": [
       "tensor([[[-0.3610, -0.1643,  0.1631],\n",
       "         [-0.0613, -0.4937, -0.1642],\n",
       "         [ 0.5080, -0.4175,  0.2502]],\n",
       "\n",
       "        [[-0.0703, -0.0393, -0.0429],\n",
       "         [ 0.2085, -0.3005, -0.2686],\n",
       "         [ 0.1482, -0.4728,  0.1425]]])"
      ]
     },
     "execution_count": 27,
     "metadata": {},
     "output_type": "execute_result"
    }
   ],
   "source": [
    "t.manual_seed(1000)\n",
    "input = t.randn(2, 3, 4)\n",
    "# 一个LSTMCell对应的层数只能是一层\n",
    "lstm = nn.LSTMCell(4, 3)\n",
    "hx = t.randn(3, 3)\n",
    "cx = t.randn(3, 3)\n",
    "out = []\n",
    "for i_ in input:\n",
    "    hx, cx=lstm(i_, (hx, cx))\n",
    "    out.append(hx)\n",
    "t.stack(out)"
   ]
  },
  {
   "cell_type": "markdown",
   "metadata": {},
   "source": [
    "词向量在自然语言中应用十分普及，PyTorch同样提供了Embedding层。"
   ]
  },
  {
   "cell_type": "code",
   "execution_count": 29,
   "metadata": {},
   "outputs": [],
   "source": [
    "# 有4个词，每个词用5维的向量表示\n",
    "embedding = nn.Embedding(4, 5)\n",
    "# 可以用预训练好的词向量初始化embedding\n",
    "embedding.weight.data = t.arange(0,20).view(4,5)"
   ]
  },
  {
   "cell_type": "code",
   "execution_count": 30,
   "metadata": {
    "scrolled": false
   },
   "outputs": [
    {
     "data": {
      "text/plain": [
       "tensor([[ 15.,  16.,  17.,  18.,  19.],\n",
       "        [ 10.,  11.,  12.,  13.,  14.],\n",
       "        [  5.,   6.,   7.,   8.,   9.]])"
      ]
     },
     "execution_count": 30,
     "metadata": {},
     "output_type": "execute_result"
    }
   ],
   "source": [
    "input = t.arange(3, 0, -1).long()\n",
    "output = embedding(input)\n",
    "output"
   ]
  },
  {
   "cell_type": "markdown",
   "metadata": {},
   "source": [
    "#### 4.1.4 损失函数\n",
    "在深度学习中要用到各种各样的损失函数（loss function），这些损失函数可看作是一种特殊的layer，PyTorch也将这些损失函数实现为`nn.Module`的子类。然而在实际使用中通常将这些loss function专门提取出来，和主模型互相独立。详细的loss使用请参照文档[^5]，这里以分类中最常用的交叉熵损失CrossEntropyloss为例说明。\n",
    "[^5]: http://pytorch.org/docs/nn.html#loss-functions"
   ]
  },
  {
   "cell_type": "code",
   "execution_count": 31,
   "metadata": {},
   "outputs": [
    {
     "data": {
      "text/plain": [
       "tensor(0.5944)"
      ]
     },
     "execution_count": 31,
     "metadata": {},
     "output_type": "execute_result"
    }
   ],
   "source": [
    "# batch_size=3，计算对应每个类别的分数（只有两个类别）\n",
    "score = t.randn(3, 2)\n",
    "# 三个样本分别属于1，0，1类，label必须是LongTensor\n",
    "label = t.Tensor([1, 0, 1]).long()\n",
    "\n",
    "# loss与普通的layer无差异\n",
    "criterion = nn.CrossEntropyLoss()\n",
    "loss = criterion(score, label)\n",
    "loss"
   ]
  },
  {
   "cell_type": "markdown",
   "metadata": {},
   "source": [
    "### 4.2 优化器\n",
    "\n",
    "PyTorch将深度学习中常用的优化方法全部封装在`torch.optim`中，其设计十分灵活，能够很方便的扩展成自定义的优化方法。\n",
    "\n",
    "所有的优化方法都是继承基类`optim.Optimizer`，并实现了自己的优化步骤。下面就以最基本的优化方法——随机梯度下降法（SGD）举例说明。这里需重点掌握：\n",
    "\n",
    "- 优化方法的基本使用方法\n",
    "- 如何对模型的不同部分设置不同的学习率\n",
    "- 如何调整学习率"
   ]
  },
  {
   "cell_type": "code",
   "execution_count": 5,
   "metadata": {},
   "outputs": [],
   "source": [
    "# 首先定义一个LeNet网络\n",
    "import torch.nn as nn\n",
    "class Net(nn.Module):\n",
    "    def __init__(self):\n",
    "        super(Net, self).__init__()\n",
    "        self.features = nn.Sequential(\n",
    "                    nn.Conv2d(3, 6, 5),\n",
    "                    nn.ReLU(),\n",
    "                    nn.MaxPool2d(2,2),\n",
    "                    nn.Conv2d(6, 16, 5),\n",
    "                    nn.ReLU(),\n",
    "                    nn.MaxPool2d(2,2)\n",
    "        )\n",
    "        self.classifier = nn.Sequential(\n",
    "            nn.Linear(16 * 5 * 5, 120),\n",
    "            nn.ReLU(),\n",
    "            nn.Linear(120, 84),\n",
    "            nn.ReLU(),\n",
    "            nn.Linear(84, 10)\n",
    "        )\n",
    "\n",
    "    def forward(self, x):\n",
    "        x = self.features(x)\n",
    "        x = x.view(-1, 16 * 5 * 5)\n",
    "        x = self.classifier(x)\n",
    "        return x\n",
    "\n",
    "net = Net()"
   ]
  },
  {
   "cell_type": "code",
   "execution_count": 8,
   "metadata": {},
   "outputs": [
    {
     "data": {
      "text/plain": [
       "[Parameter containing:\n",
       " tensor([[[[ 0.0121, -0.0746, -0.0562,  0.1099,  0.0748],\n",
       "           [-0.0389, -0.0815,  0.0567, -0.0776, -0.0838],\n",
       "           [ 0.0631, -0.0142, -0.0041, -0.0102,  0.0202],\n",
       "           [ 0.0564, -0.0749,  0.0343,  0.0326,  0.0180],\n",
       "           [ 0.0343,  0.1097,  0.0950, -0.0182,  0.0600]],\n",
       " \n",
       "          [[-0.0153,  0.0419, -0.1094,  0.0813,  0.0129],\n",
       "           [ 0.0838,  0.0699, -0.0857, -0.0196,  0.0022],\n",
       "           [-0.0992,  0.0978,  0.0332,  0.0796,  0.0963],\n",
       "           [-0.0991, -0.0197, -0.0907,  0.0359, -0.0016],\n",
       "           [-0.0651, -0.0604,  0.1102,  0.0613, -0.0182]],\n",
       " \n",
       "          [[ 0.0864,  0.0483,  0.0177,  0.0135,  0.0677],\n",
       "           [-0.0311, -0.0990, -0.0260,  0.0497,  0.0862],\n",
       "           [-0.0712, -0.0610,  0.0170,  0.0121, -0.0570],\n",
       "           [ 0.0103,  0.0158, -0.0221,  0.0009,  0.0803],\n",
       "           [ 0.0637, -0.0498,  0.0892, -0.1015, -0.0187]]],\n",
       " \n",
       " \n",
       "         [[[ 0.0102,  0.0307,  0.0690, -0.0612, -0.0824],\n",
       "           [-0.0565,  0.0282,  0.0362,  0.0169, -0.0490],\n",
       "           [ 0.0386,  0.0299, -0.0615, -0.0315, -0.0218],\n",
       "           [ 0.0718, -0.0709, -0.0868,  0.1149,  0.0071],\n",
       "           [-0.0932, -0.0321,  0.1071,  0.0741,  0.0346]],\n",
       " \n",
       "          [[-0.0133, -0.0686,  0.0152, -0.0155, -0.1009],\n",
       "           [ 0.0021,  0.1010, -0.0967,  0.0194,  0.0446],\n",
       "           [ 0.0150, -0.0716,  0.0609, -0.1007, -0.1102],\n",
       "           [-0.1027,  0.1042,  0.0812, -0.0431,  0.0113],\n",
       "           [ 0.1111,  0.0152, -0.0378,  0.0599, -0.0673]],\n",
       " \n",
       "          [[-0.0455, -0.0612,  0.0720,  0.1034,  0.1029],\n",
       "           [-0.0101,  0.0260, -0.0034,  0.0472, -0.0163],\n",
       "           [ 0.1043,  0.0412,  0.0732,  0.0523,  0.0997],\n",
       "           [-0.0722,  0.0637,  0.0758, -0.0505, -0.0670],\n",
       "           [-0.0912,  0.0318,  0.0334,  0.0586,  0.0003]]],\n",
       " \n",
       " \n",
       "         [[[ 0.0789,  0.1149,  0.0849,  0.0158,  0.0356],\n",
       "           [ 0.0405,  0.0273,  0.0691, -0.0355,  0.0895],\n",
       "           [-0.0068, -0.0064,  0.0121,  0.0583,  0.0154],\n",
       "           [ 0.0179,  0.0750, -0.0977,  0.0415, -0.1068],\n",
       "           [ 0.0905, -0.0614, -0.0506,  0.0748, -0.0632]],\n",
       " \n",
       "          [[-0.0295, -0.0344, -0.0429,  0.0135,  0.1119],\n",
       "           [-0.1013, -0.0408, -0.0671,  0.0108,  0.0373],\n",
       "           [-0.1147, -0.0706,  0.0044, -0.0880,  0.0888],\n",
       "           [ 0.0962, -0.0146,  0.0085,  0.0657, -0.0524],\n",
       "           [-0.0513,  0.0746,  0.0895,  0.0495,  0.0890]],\n",
       " \n",
       "          [[ 0.0419,  0.0250,  0.1061, -0.0302,  0.0576],\n",
       "           [ 0.0819,  0.1072, -0.0717,  0.0488, -0.0923],\n",
       "           [-0.1143,  0.0349,  0.0549,  0.0427,  0.0940],\n",
       "           [-0.0202,  0.0452,  0.0283, -0.0083,  0.0480],\n",
       "           [ 0.0202, -0.0722, -0.0243,  0.0121, -0.0774]]],\n",
       " \n",
       " \n",
       "         [[[-0.0872,  0.0066,  0.0960,  0.0001, -0.0983],\n",
       "           [ 0.0333,  0.0371,  0.0686,  0.0143, -0.0128],\n",
       "           [-0.1068, -0.0037, -0.0132,  0.0455, -0.0724],\n",
       "           [-0.0602, -0.0390, -0.0034,  0.0451, -0.0735],\n",
       "           [ 0.0494,  0.0242, -0.0436,  0.0963,  0.0951]],\n",
       " \n",
       "          [[ 0.0975,  0.0646,  0.0988,  0.0307, -0.0203],\n",
       "           [-0.0663,  0.1030, -0.0332, -0.0658, -0.0236],\n",
       "           [-0.0518,  0.0048, -0.0234,  0.0564,  0.1017],\n",
       "           [ 0.0970, -0.0285,  0.0156,  0.0614,  0.0857],\n",
       "           [-0.0231,  0.0958, -0.0843,  0.0166, -0.0398]],\n",
       " \n",
       "          [[-0.0878, -0.0445,  0.0060,  0.0734,  0.0787],\n",
       "           [-0.0857, -0.0292, -0.0103,  0.0542,  0.0932],\n",
       "           [-0.0229,  0.0217,  0.0054, -0.0412,  0.0770],\n",
       "           [-0.1106, -0.0090,  0.0184,  0.0770,  0.0432],\n",
       "           [ 0.1090, -0.0654, -0.0376, -0.0570,  0.0953]]],\n",
       " \n",
       " \n",
       "         [[[-0.0740,  0.0346,  0.0637,  0.0010, -0.0705],\n",
       "           [ 0.0138,  0.0495,  0.0069,  0.0446,  0.1037],\n",
       "           [-0.0556,  0.0097,  0.0122, -0.1108, -0.1056],\n",
       "           [ 0.1005,  0.0448,  0.0090, -0.0396,  0.0150],\n",
       "           [-0.0109,  0.0539,  0.0344, -0.0124, -0.0309]],\n",
       " \n",
       "          [[ 0.0012,  0.0198,  0.0799,  0.0614,  0.1100],\n",
       "           [-0.0890,  0.0239,  0.0037,  0.1067,  0.0990],\n",
       "           [-0.0701, -0.0233,  0.0899,  0.0812,  0.0339],\n",
       "           [-0.0223,  0.0640,  0.0199,  0.0693,  0.1130],\n",
       "           [-0.0427,  0.0795,  0.0296,  0.0870, -0.0579]],\n",
       " \n",
       "          [[ 0.0473, -0.0577, -0.1125, -0.0747, -0.0867],\n",
       "           [-0.0996, -0.0446, -0.0630, -0.0218,  0.0375],\n",
       "           [ 0.0107,  0.0850,  0.0033,  0.0956, -0.0363],\n",
       "           [ 0.0868, -0.0669,  0.0416,  0.0427, -0.0409],\n",
       "           [-0.0819, -0.0147,  0.0394, -0.0439,  0.0099]]],\n",
       " \n",
       " \n",
       "         [[[ 0.0919, -0.0585,  0.0385,  0.0854,  0.0945],\n",
       "           [-0.0553,  0.0379,  0.0354, -0.0391, -0.0947],\n",
       "           [ 0.0912,  0.0817,  0.0960,  0.0312,  0.1131],\n",
       "           [-0.0489, -0.0003,  0.0660,  0.0531,  0.1009],\n",
       "           [-0.0135,  0.0245, -0.0847,  0.0255, -0.0679]],\n",
       " \n",
       "          [[-0.0991, -0.0458, -0.0566, -0.1071, -0.0548],\n",
       "           [-0.0144,  0.0593, -0.0299, -0.0874,  0.0234],\n",
       "           [ 0.1068, -0.0075,  0.1131, -0.0161, -0.0755],\n",
       "           [ 0.0814,  0.0472,  0.0220, -0.0854,  0.0102],\n",
       "           [-0.0671, -0.0355, -0.1011,  0.0779,  0.0776]],\n",
       " \n",
       "          [[ 0.0989,  0.0862, -0.1063, -0.0516,  0.1065],\n",
       "           [-0.0484, -0.0760,  0.0137,  0.0289, -0.0106],\n",
       "           [-0.0992,  0.0841,  0.0175,  0.0780, -0.0231],\n",
       "           [-0.0309,  0.1018,  0.0394,  0.0151,  0.0835],\n",
       "           [ 0.0272,  0.1042,  0.0848, -0.0740, -0.0372]]]], requires_grad=True),\n",
       " Parameter containing:\n",
       " tensor([ 0.0418, -0.0843,  0.0015,  0.1143,  0.0380,  0.0039],\n",
       "        requires_grad=True),\n",
       " Parameter containing:\n",
       " tensor([[[[ 0.0163,  0.0358,  0.0511,  0.0097, -0.0386],\n",
       "           [ 0.0407, -0.0215, -0.0156, -0.0052,  0.0032],\n",
       "           [ 0.0716,  0.0466,  0.0187, -0.0487, -0.0071],\n",
       "           [ 0.0777,  0.0612, -0.0511,  0.0411,  0.0108],\n",
       "           [-0.0391,  0.0287,  0.0372, -0.0702,  0.0543]],\n",
       " \n",
       "          [[-0.0539, -0.0030,  0.0540,  0.0515,  0.0285],\n",
       "           [ 0.0809,  0.0527,  0.0231,  0.0257,  0.0011],\n",
       "           [-0.0067,  0.0242,  0.0266, -0.0417, -0.0582],\n",
       "           [-0.0596, -0.0361, -0.0380, -0.0232,  0.0097],\n",
       "           [ 0.0741, -0.0797, -0.0656,  0.0345,  0.0684]],\n",
       " \n",
       "          [[-0.0335,  0.0446,  0.0560,  0.0676,  0.0644],\n",
       "           [-0.0384,  0.0338, -0.0252, -0.0311,  0.0387],\n",
       "           [ 0.0806,  0.0727, -0.0146,  0.0715,  0.0707],\n",
       "           [-0.0535, -0.0718, -0.0162, -0.0093,  0.0326],\n",
       "           [ 0.0031, -0.0386,  0.0745,  0.0164,  0.0045]],\n",
       " \n",
       "          [[-0.0235,  0.0421,  0.0160, -0.0168,  0.0506],\n",
       "           [ 0.0808, -0.0097,  0.0230, -0.0188, -0.0452],\n",
       "           [ 0.0121,  0.0661, -0.0347,  0.0250,  0.0657],\n",
       "           [ 0.0194,  0.0149,  0.0815, -0.0336,  0.0002],\n",
       "           [ 0.0570, -0.0337,  0.0125, -0.0305,  0.0203]],\n",
       " \n",
       "          [[ 0.0570,  0.0278, -0.0273, -0.0607,  0.0059],\n",
       "           [-0.0482,  0.0496,  0.0451,  0.0205,  0.0738],\n",
       "           [-0.0190, -0.0343,  0.0132, -0.0448,  0.0072],\n",
       "           [-0.0731, -0.0460,  0.0436, -0.0531,  0.0274],\n",
       "           [ 0.0574,  0.0174,  0.0777, -0.0477, -0.0629]],\n",
       " \n",
       "          [[-0.0813, -0.0261, -0.0683,  0.0277, -0.0702],\n",
       "           [-0.0597, -0.0057,  0.0480, -0.0609, -0.0724],\n",
       "           [ 0.0121, -0.0077, -0.0140,  0.0795, -0.0596],\n",
       "           [-0.0556, -0.0645, -0.0130,  0.0476, -0.0442],\n",
       "           [-0.0683, -0.0039, -0.0782,  0.0284,  0.0284]]],\n",
       " \n",
       " \n",
       "         [[[ 0.0633, -0.0614,  0.0748,  0.0365, -0.0203],\n",
       "           [-0.0663, -0.0272,  0.0726,  0.0252, -0.0152],\n",
       "           [-0.0162,  0.0318,  0.0030, -0.0330,  0.0483],\n",
       "           [ 0.0381,  0.0459,  0.0660, -0.0540, -0.0068],\n",
       "           [ 0.0583,  0.0231, -0.0317, -0.0237,  0.0291]],\n",
       " \n",
       "          [[-0.0235, -0.0603,  0.0349, -0.0331, -0.0401],\n",
       "           [ 0.0029, -0.0717,  0.0442, -0.0005,  0.0677],\n",
       "           [-0.0489,  0.0371,  0.0430,  0.0502,  0.0724],\n",
       "           [-0.0193,  0.0674, -0.0612,  0.0570, -0.0165],\n",
       "           [-0.0076,  0.0470, -0.0333, -0.0277, -0.0669]],\n",
       " \n",
       "          [[-0.0077,  0.0600,  0.0264,  0.0740, -0.0730],\n",
       "           [-0.0569, -0.0120, -0.0786, -0.0618,  0.0491],\n",
       "           [-0.0705, -0.0739,  0.0515, -0.0221, -0.0004],\n",
       "           [-0.0368, -0.0135, -0.0305,  0.0005, -0.0090],\n",
       "           [ 0.0716,  0.0552,  0.0712, -0.0684, -0.0225]],\n",
       " \n",
       "          [[-0.0066, -0.0463, -0.0727, -0.0448,  0.0034],\n",
       "           [-0.0678, -0.0165,  0.0702, -0.0376, -0.0344],\n",
       "           [-0.0152,  0.0051, -0.0787,  0.0249, -0.0325],\n",
       "           [ 0.0233, -0.0404, -0.0056, -0.0728, -0.0277],\n",
       "           [-0.0626,  0.0802,  0.0749,  0.0338,  0.0673]],\n",
       " \n",
       "          [[ 0.0503, -0.0026,  0.0674,  0.0729,  0.0652],\n",
       "           [ 0.0073, -0.0693, -0.0414,  0.0466, -0.0532],\n",
       "           [ 0.0774,  0.0139,  0.0326, -0.0355, -0.0716],\n",
       "           [ 0.0645, -0.0061, -0.0087, -0.0536,  0.0474],\n",
       "           [ 0.0103,  0.0668, -0.0313,  0.0627,  0.0316]],\n",
       " \n",
       "          [[ 0.0129,  0.0369,  0.0252, -0.0463, -0.0146],\n",
       "           [-0.0481,  0.0027, -0.0175,  0.0798,  0.0138],\n",
       "           [ 0.0115,  0.0205, -0.0345,  0.0146, -0.0187],\n",
       "           [ 0.0580,  0.0054,  0.0692,  0.0419,  0.0204],\n",
       "           [-0.0319,  0.0368, -0.0456,  0.0560,  0.0171]]],\n",
       " \n",
       " \n",
       "         [[[ 0.0626,  0.0727,  0.0767,  0.0647, -0.0555],\n",
       "           [-0.0292, -0.0535,  0.0315, -0.0763, -0.0782],\n",
       "           [-0.0069,  0.0058, -0.0723, -0.0325,  0.0734],\n",
       "           [-0.0185, -0.0657,  0.0343,  0.0627, -0.0158],\n",
       "           [ 0.0410,  0.0364,  0.0769,  0.0650,  0.0579]],\n",
       " \n",
       "          [[ 0.0762, -0.0413,  0.0343,  0.0737,  0.0752],\n",
       "           [-0.0214,  0.0793, -0.0093, -0.0079, -0.0138],\n",
       "           [ 0.0583,  0.0680, -0.0247, -0.0757,  0.0102],\n",
       "           [-0.0016, -0.0489, -0.0235,  0.0299, -0.0235],\n",
       "           [ 0.0241,  0.0641, -0.0277, -0.0364, -0.0804]],\n",
       " \n",
       "          [[ 0.0533, -0.0658,  0.0417, -0.0694, -0.0080],\n",
       "           [ 0.0358, -0.0106,  0.0560,  0.0067, -0.0482],\n",
       "           [ 0.0300,  0.0340,  0.0148, -0.0738,  0.0416],\n",
       "           [-0.0321, -0.0557, -0.0743,  0.0033,  0.0095],\n",
       "           [-0.0219,  0.0125, -0.0659, -0.0315,  0.0065]],\n",
       " \n",
       "          [[-0.0320,  0.0281,  0.0501,  0.0473, -0.0472],\n",
       "           [ 0.0469, -0.0331, -0.0677, -0.0170, -0.0278],\n",
       "           [ 0.0173, -0.0261, -0.0799, -0.0219,  0.0633],\n",
       "           [ 0.0203,  0.0424,  0.0682, -0.0442, -0.0709],\n",
       "           [-0.0646,  0.0335, -0.0058, -0.0627, -0.0007]],\n",
       " \n",
       "          [[ 0.0575, -0.0719,  0.0596,  0.0260, -0.0566],\n",
       "           [ 0.0576, -0.0081,  0.0331, -0.0816, -0.0573],\n",
       "           [-0.0149,  0.0617,  0.0614,  0.0757, -0.0627],\n",
       "           [ 0.0551, -0.0092, -0.0711,  0.0044,  0.0157],\n",
       "           [ 0.0460, -0.0223, -0.0429,  0.0650,  0.0279]],\n",
       " \n",
       "          [[ 0.0135, -0.0321,  0.0528,  0.0382, -0.0233],\n",
       "           [-0.0351, -0.0748, -0.0049,  0.0766, -0.0409],\n",
       "           [ 0.0018, -0.0083,  0.0180, -0.0488,  0.0473],\n",
       "           [-0.0118,  0.0590,  0.0113,  0.0283,  0.0327],\n",
       "           [-0.0742,  0.0322, -0.0730, -0.0135,  0.0748]]],\n",
       " \n",
       " \n",
       "         ...,\n",
       " \n",
       " \n",
       "         [[[-0.0722, -0.0159,  0.0567,  0.0556, -0.0124],\n",
       "           [-0.0743, -0.0285, -0.0564,  0.0388, -0.0258],\n",
       "           [ 0.0701, -0.0304,  0.0142, -0.0206, -0.0732],\n",
       "           [-0.0402, -0.0757,  0.0069, -0.0601,  0.0380],\n",
       "           [-0.0189,  0.0326, -0.0713,  0.0132,  0.0640]],\n",
       " \n",
       "          [[-0.0470,  0.0565,  0.0706, -0.0049,  0.0483],\n",
       "           [ 0.0186,  0.0697,  0.0053,  0.0146,  0.0235],\n",
       "           [ 0.0376,  0.0046,  0.0605, -0.0015,  0.0157],\n",
       "           [ 0.0765, -0.0160, -0.0122, -0.0753, -0.0381],\n",
       "           [-0.0535,  0.0527,  0.0085, -0.0746, -0.0009]],\n",
       " \n",
       "          [[-0.0760,  0.0554, -0.0270,  0.0485,  0.0227],\n",
       "           [ 0.0185,  0.0633, -0.0470, -0.0189,  0.0186],\n",
       "           [-0.0136,  0.0521,  0.0645,  0.0441,  0.0208],\n",
       "           [-0.0577,  0.0792, -0.0535, -0.0573, -0.0267],\n",
       "           [ 0.0470,  0.0765, -0.0175,  0.0508,  0.0338]],\n",
       " \n",
       "          [[-0.0383,  0.0248,  0.0467, -0.0653,  0.0395],\n",
       "           [ 0.0605, -0.0673, -0.0042,  0.0010,  0.0494],\n",
       "           [ 0.0735,  0.0613, -0.0717, -0.0597, -0.0208],\n",
       "           [ 0.0308,  0.0358,  0.0546, -0.0250,  0.0585],\n",
       "           [-0.0807, -0.0639, -0.0314, -0.0491, -0.0007]],\n",
       " \n",
       "          [[-0.0209, -0.0248,  0.0316,  0.0713, -0.0418],\n",
       "           [ 0.0757,  0.0574, -0.0082,  0.0745, -0.0308],\n",
       "           [-0.0809,  0.0434,  0.0191,  0.0396, -0.0019],\n",
       "           [-0.0575, -0.0699, -0.0424,  0.0657,  0.0401],\n",
       "           [-0.0669, -0.0092, -0.0556,  0.0119,  0.0445]],\n",
       " \n",
       "          [[-0.0101, -0.0547, -0.0765,  0.0733,  0.0419],\n",
       "           [-0.0205, -0.0708,  0.0373, -0.0506, -0.0136],\n",
       "           [ 0.0753, -0.0507, -0.0642, -0.0562, -0.0622],\n",
       "           [-0.0361,  0.0776,  0.0481,  0.0691, -0.0552],\n",
       "           [-0.0591,  0.0177,  0.0791,  0.0766,  0.0416]]],\n",
       " \n",
       " \n",
       "         [[[ 0.0696, -0.0596, -0.0738, -0.0677, -0.0204],\n",
       "           [ 0.0586, -0.0527, -0.0306,  0.0361,  0.0105],\n",
       "           [-0.0434, -0.0353, -0.0092, -0.0593, -0.0171],\n",
       "           [ 0.0298, -0.0068, -0.0068, -0.0083, -0.0541],\n",
       "           [-0.0809,  0.0615,  0.0453, -0.0297,  0.0201]],\n",
       " \n",
       "          [[ 0.0476,  0.0227,  0.0239, -0.0216,  0.0259],\n",
       "           [-0.0128,  0.0696, -0.0397, -0.0621, -0.0163],\n",
       "           [ 0.0321,  0.0632, -0.0680, -0.0353, -0.0551],\n",
       "           [ 0.0314, -0.0501,  0.0454,  0.0051,  0.0201],\n",
       "           [ 0.0091,  0.0014, -0.0371, -0.0564,  0.0253]],\n",
       " \n",
       "          [[-0.0265,  0.0698,  0.0400,  0.0025, -0.0105],\n",
       "           [ 0.0390, -0.0117,  0.0341,  0.0041,  0.0568],\n",
       "           [-0.0078,  0.0118, -0.0301, -0.0131,  0.0004],\n",
       "           [ 0.0270,  0.0266,  0.0079, -0.0059,  0.0550],\n",
       "           [ 0.0330,  0.0096,  0.0194,  0.0297,  0.0707]],\n",
       " \n",
       "          [[-0.0074, -0.0095, -0.0653,  0.0769,  0.0094],\n",
       "           [ 0.0444, -0.0792, -0.0380,  0.0261,  0.0436],\n",
       "           [ 0.0308,  0.0331, -0.0215,  0.0427,  0.0176],\n",
       "           [ 0.0007, -0.0631, -0.0063, -0.0048,  0.0420],\n",
       "           [-0.0390, -0.0233,  0.0271,  0.0387,  0.0567]],\n",
       " \n",
       "          [[ 0.0565, -0.0521,  0.0283, -0.0370, -0.0402],\n",
       "           [-0.0149,  0.0711,  0.0708,  0.0221, -0.0551],\n",
       "           [-0.0147, -0.0305,  0.0197, -0.0104,  0.0211],\n",
       "           [-0.0668, -0.0485,  0.0209,  0.0375, -0.0758],\n",
       "           [-0.0710, -0.0528,  0.0097,  0.0543,  0.0087]],\n",
       " \n",
       "          [[ 0.0757,  0.0307,  0.0090, -0.0761, -0.0418],\n",
       "           [-0.0030, -0.0683,  0.0442, -0.0465, -0.0714],\n",
       "           [-0.0568, -0.0557, -0.0482, -0.0187,  0.0627],\n",
       "           [ 0.0680, -0.0652,  0.0780, -0.0073,  0.0187],\n",
       "           [ 0.0681,  0.0551, -0.0219, -0.0518,  0.0170]]],\n",
       " \n",
       " \n",
       "         [[[-0.0194,  0.0234,  0.0467,  0.0499,  0.0493],\n",
       "           [-0.0054,  0.0676, -0.0802, -0.0203, -0.0191],\n",
       "           [ 0.0264,  0.0568,  0.0241, -0.0604, -0.0030],\n",
       "           [ 0.0776,  0.0334,  0.0753,  0.0190,  0.0750],\n",
       "           [-0.0388,  0.0648,  0.0544, -0.0096, -0.0781]],\n",
       " \n",
       "          [[ 0.0182,  0.0143, -0.0582,  0.0364,  0.0073],\n",
       "           [ 0.0526,  0.0116,  0.0057, -0.0247,  0.0031],\n",
       "           [-0.0562, -0.0427,  0.0435, -0.0127,  0.0369],\n",
       "           [ 0.0287, -0.0498,  0.0239, -0.0336, -0.0082],\n",
       "           [ 0.0438,  0.0194, -0.0618, -0.0406, -0.0394]],\n",
       " \n",
       "          [[-0.0781,  0.0698, -0.0525, -0.0101,  0.0489],\n",
       "           [-0.0780, -0.0191, -0.0576,  0.0533,  0.0191],\n",
       "           [-0.0263, -0.0118, -0.0799,  0.0453, -0.0580],\n",
       "           [ 0.0443,  0.0040,  0.0769, -0.0542,  0.0193],\n",
       "           [-0.0680,  0.0475, -0.0626, -0.0336, -0.0431]],\n",
       " \n",
       "          [[ 0.0714, -0.0142,  0.0316,  0.0364, -0.0475],\n",
       "           [ 0.0362,  0.0711, -0.0457,  0.0019, -0.0585],\n",
       "           [ 0.0674,  0.0364, -0.0805,  0.0764,  0.0272],\n",
       "           [ 0.0376,  0.0002,  0.0234, -0.0161, -0.0414],\n",
       "           [-0.0087,  0.0014, -0.0638,  0.0194,  0.0567]],\n",
       " \n",
       "          [[-0.0193, -0.0105, -0.0780,  0.0399,  0.0127],\n",
       "           [-0.0502, -0.0142,  0.0055,  0.0260, -0.0414],\n",
       "           [ 0.0438,  0.0040,  0.0041,  0.0678, -0.0206],\n",
       "           [ 0.0593, -0.0373, -0.0612, -0.0332, -0.0579],\n",
       "           [-0.0052, -0.0320, -0.0315,  0.0566, -0.0567]],\n",
       " \n",
       "          [[-0.0238, -0.0510,  0.0373,  0.0174,  0.0754],\n",
       "           [-0.0261,  0.0440,  0.0603,  0.0423, -0.0810],\n",
       "           [-0.0412, -0.0054,  0.0645,  0.0256,  0.0454],\n",
       "           [-0.0679, -0.0014, -0.0276,  0.0070,  0.0468],\n",
       "           [ 0.0504, -0.0564, -0.0049, -0.0137, -0.0338]]]], requires_grad=True),\n",
       " Parameter containing:\n",
       " tensor([-0.0534,  0.0218,  0.0366,  0.0659,  0.0268, -0.0615,  0.0250, -0.0154,\n",
       "         -0.0709, -0.0132,  0.0365,  0.0043, -0.0347, -0.0191,  0.0375,  0.0773],\n",
       "        requires_grad=True),\n",
       " Parameter containing:\n",
       " tensor([[-0.0088, -0.0322,  0.0392,  ..., -0.0099, -0.0248, -0.0258],\n",
       "         [-0.0459, -0.0042, -0.0470,  ...,  0.0462,  0.0296, -0.0454],\n",
       "         [ 0.0385, -0.0079,  0.0226,  ...,  0.0055,  0.0232, -0.0446],\n",
       "         ...,\n",
       "         [-0.0177,  0.0032, -0.0086,  ..., -0.0337,  0.0394, -0.0236],\n",
       "         [ 0.0494, -0.0336, -0.0191,  ...,  0.0088,  0.0431, -0.0249],\n",
       "         [ 0.0257,  0.0496, -0.0417,  ..., -0.0028, -0.0276, -0.0426]],\n",
       "        requires_grad=True),\n",
       " Parameter containing:\n",
       " tensor([ 0.0209, -0.0022,  0.0199, -0.0156, -0.0083, -0.0067, -0.0376, -0.0371,\n",
       "          0.0152, -0.0126,  0.0074, -0.0261,  0.0193,  0.0002, -0.0309,  0.0081,\n",
       "          0.0160, -0.0441, -0.0288,  0.0465,  0.0401, -0.0488,  0.0108,  0.0446,\n",
       "          0.0271,  0.0405, -0.0191, -0.0401,  0.0279, -0.0295, -0.0446, -0.0088,\n",
       "          0.0495, -0.0098, -0.0465,  0.0351, -0.0107, -0.0220,  0.0472, -0.0393,\n",
       "          0.0350, -0.0489,  0.0116, -0.0139, -0.0165,  0.0465, -0.0116, -0.0091,\n",
       "          0.0035,  0.0356, -0.0293, -0.0353,  0.0124, -0.0314,  0.0236, -0.0136,\n",
       "          0.0172, -0.0120,  0.0357, -0.0491, -0.0211,  0.0062,  0.0497, -0.0400,\n",
       "          0.0390,  0.0257,  0.0482,  0.0335,  0.0456, -0.0404,  0.0218, -0.0215,\n",
       "         -0.0299, -0.0251, -0.0149, -0.0264, -0.0473,  0.0263,  0.0256,  0.0035,\n",
       "         -0.0057,  0.0481, -0.0370,  0.0024,  0.0149, -0.0336, -0.0435,  0.0217,\n",
       "         -0.0378,  0.0360,  0.0006,  0.0005,  0.0266, -0.0454,  0.0206, -0.0100,\n",
       "          0.0045,  0.0219, -0.0382, -0.0038,  0.0044,  0.0140,  0.0410,  0.0080,\n",
       "          0.0435,  0.0359,  0.0156, -0.0088,  0.0030,  0.0064,  0.0290,  0.0465,\n",
       "         -0.0239,  0.0203,  0.0175,  0.0441,  0.0039,  0.0273,  0.0479, -0.0451],\n",
       "        requires_grad=True),\n",
       " Parameter containing:\n",
       " tensor([[ 0.0770,  0.0338,  0.0280,  ...,  0.0840,  0.0526, -0.0824],\n",
       "         [ 0.0548, -0.0195, -0.0090,  ..., -0.0844,  0.0665, -0.0138],\n",
       "         [-0.0765, -0.0785,  0.0652,  ..., -0.0366, -0.0772, -0.0218],\n",
       "         ...,\n",
       "         [ 0.0521, -0.0664, -0.0578,  ...,  0.0666, -0.0211,  0.0724],\n",
       "         [-0.0810, -0.0052, -0.0053,  ..., -0.0065, -0.0607, -0.0794],\n",
       "         [ 0.0334,  0.0059, -0.0882,  ...,  0.0811, -0.0691, -0.0111]],\n",
       "        requires_grad=True),\n",
       " Parameter containing:\n",
       " tensor([ 0.0453,  0.0868, -0.0074,  0.0366,  0.0212,  0.0136, -0.0354, -0.0448,\n",
       "         -0.0073,  0.0433,  0.0115,  0.0811,  0.0155,  0.0768, -0.0422, -0.0212,\n",
       "          0.0622, -0.0897,  0.0717, -0.0309,  0.0790, -0.0195,  0.0213,  0.0361,\n",
       "         -0.0479,  0.0287, -0.0656, -0.0049, -0.0556, -0.0901,  0.0504,  0.0339,\n",
       "          0.0794,  0.0448,  0.0081,  0.0434,  0.0082, -0.0070,  0.0299, -0.0903,\n",
       "          0.0855,  0.0464,  0.0868, -0.0865, -0.0087, -0.0593, -0.0253, -0.0461,\n",
       "          0.0250,  0.0010, -0.0610, -0.0905,  0.0079,  0.0827,  0.0779, -0.0314,\n",
       "         -0.0410, -0.0374,  0.0700,  0.0463, -0.0528, -0.0447, -0.0611, -0.0473,\n",
       "          0.0843, -0.0604,  0.0281, -0.0302, -0.0904,  0.0069, -0.0750, -0.0904,\n",
       "          0.0773, -0.0150,  0.0825, -0.0605,  0.0657,  0.0518, -0.0523,  0.0825,\n",
       "         -0.0372, -0.0403,  0.0465, -0.0052], requires_grad=True),\n",
       " Parameter containing:\n",
       " tensor([[ 0.0581,  0.0024,  0.0525,  0.0380, -0.0121,  0.0145, -0.0576,  0.0107,\n",
       "          -0.1015,  0.1063,  0.0636, -0.0492, -0.0048, -0.0260,  0.1030, -0.0308,\n",
       "           0.0548, -0.0009,  0.0450,  0.0278,  0.0008,  0.0231, -0.0637,  0.0315,\n",
       "           0.0326, -0.0268, -0.0303, -0.0557, -0.0964,  0.0857,  0.0905, -0.0727,\n",
       "          -0.0884, -0.0162,  0.0874, -0.0228, -0.0595,  0.0780,  0.0920, -0.0244,\n",
       "          -0.0467,  0.0605,  0.0608,  0.0522, -0.0628,  0.0799, -0.0891, -0.0214,\n",
       "           0.0706, -0.0740, -0.0512, -0.0516,  0.0960,  0.0468, -0.1035, -0.0881,\n",
       "           0.0650,  0.0027, -0.0721, -0.1039, -0.0025,  0.0917, -0.0827, -0.0983,\n",
       "           0.0395,  0.0115,  0.1071, -0.0956,  0.0952, -0.1017, -0.0824, -0.0928,\n",
       "          -0.0217,  0.0425,  0.0528,  0.0949,  0.0969, -0.0934, -0.0613,  0.0244,\n",
       "          -0.0451,  0.0363,  0.0080, -0.0800],\n",
       "         [-0.0873,  0.1026,  0.0980, -0.0513, -0.0478, -0.0218, -0.0179,  0.0085,\n",
       "          -0.0956, -0.0298, -0.0564,  0.0053, -0.0871, -0.0164, -0.0505, -0.0161,\n",
       "          -0.0286,  0.0914,  0.0395, -0.0156, -0.0667,  0.0534, -0.0154, -0.0276,\n",
       "          -0.0533, -0.1010,  0.0063, -0.0614, -0.0503,  0.0155, -0.0729, -0.0864,\n",
       "           0.0706, -0.0487, -0.0816,  0.0535, -0.0671, -0.0463,  0.0771,  0.1083,\n",
       "           0.0141,  0.0411, -0.1017,  0.1040, -0.0171, -0.0257,  0.1005, -0.0918,\n",
       "           0.0437, -0.0117, -0.0046, -0.0921,  0.0407,  0.0021, -0.0619,  0.1029,\n",
       "          -0.0130, -0.1008,  0.0849,  0.0587, -0.1062,  0.0612, -0.0877,  0.0135,\n",
       "           0.0569,  0.0715,  0.0889, -0.0751,  0.1026,  0.1039, -0.0225,  0.0078,\n",
       "          -0.0525,  0.0094,  0.0625,  0.0485,  0.0666, -0.0183, -0.0400,  0.0515,\n",
       "          -0.0092, -0.0869, -0.0666, -0.0066],\n",
       "         [ 0.0417, -0.0789, -0.0686, -0.0449, -0.0789, -0.0550,  0.0436, -0.0662,\n",
       "           0.0946, -0.0461,  0.1049,  0.1091, -0.0667, -0.0040,  0.0388,  0.0818,\n",
       "           0.0893,  0.0327, -0.0941,  0.0657, -0.0836,  0.0958,  0.0337,  0.1014,\n",
       "          -0.0578,  0.0718, -0.0631, -0.0435,  0.0752, -0.1053,  0.0397, -0.0272,\n",
       "          -0.0117, -0.0077,  0.0711,  0.0206, -0.0151, -0.0638,  0.0637,  0.0572,\n",
       "           0.0636,  0.0461, -0.1089, -0.0089,  0.0251,  0.1037, -0.0092,  0.0809,\n",
       "           0.0684,  0.0972,  0.0758, -0.0864,  0.0806,  0.0437, -0.0636, -0.0674,\n",
       "          -0.0863, -0.0156,  0.0660, -0.0141,  0.0687,  0.0072, -0.0608,  0.0052,\n",
       "           0.0956,  0.1065,  0.0233, -0.0990,  0.0467,  0.0017, -0.0916,  0.0104,\n",
       "          -0.0104, -0.0570, -0.1046, -0.0653, -0.1071,  0.0060, -0.0337,  0.1075,\n",
       "          -0.0553, -0.0739, -0.0548, -0.1054],\n",
       "         [ 0.0271,  0.0968,  0.0917, -0.0137,  0.0350,  0.0271,  0.0302, -0.0150,\n",
       "           0.0059, -0.0959, -0.0920,  0.1031, -0.0987, -0.0118,  0.0561,  0.0504,\n",
       "           0.0283,  0.1074, -0.0644,  0.0656,  0.0157,  0.0597, -0.0755, -0.0120,\n",
       "           0.0025,  0.0855, -0.0699,  0.0045, -0.0531, -0.0532,  0.0087, -0.0424,\n",
       "           0.0162, -0.0701, -0.0971, -0.0495,  0.0212,  0.0245,  0.0806,  0.0538,\n",
       "          -0.0255,  0.0730, -0.1035, -0.0015,  0.0957, -0.0225,  0.0143,  0.0462,\n",
       "          -0.0389, -0.0237,  0.0033,  0.0497, -0.0370,  0.0131, -0.0064,  0.0074,\n",
       "           0.0932,  0.0620, -0.0801,  0.0812, -0.0532,  0.0039,  0.0095, -0.0584,\n",
       "           0.0928,  0.0345, -0.0024,  0.0108, -0.0271,  0.0635, -0.0875,  0.0163,\n",
       "          -0.0692, -0.0959, -0.0169, -0.1002, -0.0920,  0.0723,  0.0272, -0.0781,\n",
       "           0.0524,  0.0588,  0.0809,  0.0286],\n",
       "         [-0.0854, -0.0862,  0.0312, -0.1028, -0.1037, -0.0831, -0.0129, -0.0010,\n",
       "           0.0675, -0.0990, -0.0991,  0.0642,  0.0685,  0.0665,  0.0604, -0.0426,\n",
       "           0.1011,  0.0094, -0.0666,  0.0454,  0.0193, -0.0912, -0.0649, -0.0080,\n",
       "          -0.0874,  0.0796,  0.0676,  0.0496,  0.1033, -0.0287,  0.0203,  0.0232,\n",
       "          -0.0610, -0.0762, -0.0464, -0.0951,  0.0095,  0.0025, -0.0534,  0.0331,\n",
       "          -0.1076, -0.0151, -0.0599,  0.0637, -0.0514,  0.1031,  0.0743, -0.0981,\n",
       "           0.0656, -0.0236, -0.0930,  0.0043, -0.0309, -0.0282, -0.1091, -0.0935,\n",
       "          -0.0812,  0.0038, -0.0487,  0.0238, -0.0944,  0.1006, -0.0098,  0.0288,\n",
       "          -0.0653,  0.0500,  0.0423, -0.1011, -0.0654,  0.0083, -0.0449,  0.0545,\n",
       "          -0.0570,  0.0291, -0.0422, -0.1091,  0.0769,  0.0582,  0.0999,  0.0011,\n",
       "           0.0130,  0.0341,  0.0499, -0.0027],\n",
       "         [-0.0559,  0.0059, -0.0110, -0.0486, -0.0587,  0.0929, -0.0157,  0.0351,\n",
       "          -0.0008,  0.0324, -0.0334, -0.0393,  0.0314,  0.0246,  0.0643,  0.0667,\n",
       "          -0.0263,  0.0820, -0.1005,  0.0470, -0.0987,  0.0682,  0.0633, -0.0669,\n",
       "           0.0475,  0.0167,  0.0803, -0.0508, -0.0376,  0.0862, -0.0723,  0.1037,\n",
       "          -0.0017,  0.1047,  0.0115, -0.0904, -0.1027, -0.0070, -0.0072,  0.0668,\n",
       "          -0.0950, -0.1079, -0.0930,  0.0539,  0.1010,  0.0001, -0.0948,  0.0951,\n",
       "           0.0530, -0.0420,  0.0498,  0.0278, -0.0012,  0.0644,  0.0041, -0.0705,\n",
       "          -0.0503,  0.0918,  0.0881, -0.0619, -0.0159,  0.0120,  0.0982, -0.0805,\n",
       "          -0.0455, -0.1043,  0.0335,  0.0232, -0.0348,  0.1080, -0.0538,  0.1005,\n",
       "          -0.0832, -0.0246, -0.0747,  0.0371,  0.0964, -0.0687, -0.0943, -0.0130,\n",
       "          -0.0602,  0.0308, -0.0866,  0.0204],\n",
       "         [ 0.0984, -0.0671, -0.0842, -0.0726,  0.0093,  0.0063,  0.0023, -0.0167,\n",
       "          -0.0478, -0.0822, -0.0912,  0.0694,  0.0180, -0.0894,  0.0642, -0.0773,\n",
       "           0.0824, -0.0515, -0.0223, -0.0892,  0.0223, -0.0815, -0.0465,  0.0841,\n",
       "           0.0246,  0.0153, -0.0229,  0.0721,  0.0142,  0.0642,  0.0929,  0.0818,\n",
       "          -0.0468, -0.1040, -0.0495, -0.0964, -0.1012, -0.0757,  0.0744, -0.0930,\n",
       "           0.0193,  0.0982, -0.1071,  0.1012,  0.0869, -0.0944,  0.0883,  0.0954,\n",
       "           0.1079,  0.0628,  0.0407,  0.0524,  0.0864, -0.1069, -0.0935, -0.1038,\n",
       "          -0.0629, -0.0839,  0.0484,  0.0496,  0.0570, -0.0264, -0.0773,  0.0539,\n",
       "          -0.0281, -0.0241, -0.0730,  0.0568,  0.0976,  0.0066, -0.0288, -0.0756,\n",
       "           0.0231, -0.0995, -0.0830,  0.0277, -0.0020,  0.0084, -0.0714, -0.0864,\n",
       "           0.0569, -0.0572,  0.0368,  0.0063],\n",
       "         [-0.0175,  0.1027,  0.0879,  0.0571,  0.0179,  0.0456,  0.1057, -0.1091,\n",
       "          -0.0794,  0.0026,  0.0161, -0.0032,  0.0445, -0.0270,  0.0838, -0.0634,\n",
       "          -0.0732,  0.0247, -0.0659, -0.0300,  0.0662,  0.0531, -0.0329, -0.0953,\n",
       "           0.0456, -0.0533,  0.0645, -0.0046,  0.0970, -0.0565,  0.0599, -0.0006,\n",
       "           0.0205, -0.0706, -0.0577,  0.0159,  0.0442, -0.0712, -0.0338,  0.0436,\n",
       "          -0.0488,  0.0871,  0.0241, -0.0462, -0.0084, -0.0668, -0.0512, -0.0871,\n",
       "           0.0685, -0.0338, -0.0364,  0.0470,  0.0994, -0.0831, -0.0682, -0.0816,\n",
       "           0.0839, -0.0898, -0.0408,  0.0229, -0.0286,  0.0061, -0.0460,  0.0580,\n",
       "           0.0721, -0.0282,  0.0867,  0.0755, -0.0945,  0.0420,  0.0477, -0.0978,\n",
       "          -0.0243, -0.0492,  0.0013,  0.0280, -0.0766, -0.0353, -0.0361, -0.0438,\n",
       "           0.0273,  0.0944,  0.0773,  0.0392],\n",
       "         [-0.0220, -0.0022, -0.0471, -0.0982,  0.0367, -0.0781, -0.1057,  0.0369,\n",
       "          -0.0146,  0.0196,  0.0262,  0.0646,  0.0506,  0.0817, -0.0489, -0.0635,\n",
       "           0.0148,  0.0513, -0.0790, -0.0281, -0.0346, -0.1062,  0.0170, -0.0092,\n",
       "           0.0566,  0.0558, -0.0738, -0.0447, -0.0974,  0.0284,  0.0666,  0.0843,\n",
       "           0.0621,  0.0026,  0.1001, -0.1062,  0.0256,  0.1058,  0.0962,  0.0246,\n",
       "          -0.0886, -0.0242, -0.0595, -0.0266, -0.0475,  0.0196, -0.0319,  0.0254,\n",
       "          -0.0302, -0.0431, -0.0521,  0.0861, -0.0386, -0.0691,  0.0818,  0.0108,\n",
       "          -0.0846, -0.0423,  0.0689,  0.0539, -0.0838,  0.0276, -0.0963, -0.0297,\n",
       "          -0.1065,  0.0390,  0.0799,  0.0035, -0.0621,  0.0960,  0.0980, -0.0146,\n",
       "           0.0848,  0.0815,  0.0135,  0.0806, -0.0157,  0.0516, -0.0861, -0.0907,\n",
       "          -0.0728, -0.1000,  0.0702,  0.0733],\n",
       "         [ 0.0473, -0.0746, -0.0966, -0.0004, -0.0809, -0.0455, -0.0850,  0.0873,\n",
       "          -0.0596, -0.1027, -0.0426,  0.0888, -0.0495, -0.0283, -0.0621,  0.0939,\n",
       "          -0.0821,  0.0979, -0.0993, -0.0158, -0.0187, -0.0959, -0.0912,  0.0402,\n",
       "           0.0687,  0.0248, -0.0608, -0.0201,  0.0093, -0.0663, -0.0137, -0.0986,\n",
       "           0.0104,  0.0825,  0.0587,  0.0152, -0.1062,  0.1039, -0.0933, -0.0968,\n",
       "           0.0962,  0.0241, -0.0446, -0.1005, -0.0068, -0.0497,  0.0067, -0.1003,\n",
       "          -0.0764,  0.0588,  0.0258, -0.0158, -0.0052,  0.0605,  0.0352,  0.0020,\n",
       "          -0.0802, -0.0598,  0.0229, -0.0996, -0.0158,  0.0361,  0.0095, -0.0329,\n",
       "           0.0985, -0.0829,  0.0736, -0.0758,  0.1053,  0.0025,  0.0936, -0.0766,\n",
       "          -0.0734, -0.0772, -0.0228, -0.0693,  0.0883, -0.0732, -0.0122,  0.0340,\n",
       "           0.0979,  0.0028, -0.0796, -0.0851]], requires_grad=True),\n",
       " Parameter containing:\n",
       " tensor([-0.1011,  0.0851, -0.0756,  0.1085, -0.0659, -0.0298, -0.0903, -0.0296,\n",
       "         -0.0362,  0.0333], requires_grad=True)]"
      ]
     },
     "execution_count": 8,
     "metadata": {},
     "output_type": "execute_result"
    }
   ],
   "source": [
    "list(net.parameters())"
   ]
  },
  {
   "cell_type": "code",
   "execution_count": 33,
   "metadata": {
    "scrolled": true
   },
   "outputs": [],
   "source": [
    "from torch import  optim\n",
    "optimizer = optim.SGD(params=net.parameters(), lr=1)\n",
    "optimizer.zero_grad() # 梯度清零，等价于net.zero_grad()\n",
    "\n",
    "input = t.randn(1, 3, 32, 32)\n",
    "output = net(input)\n",
    "output.backward(output) # fake backward\n",
    "\n",
    "optimizer.step() # 执行优化"
   ]
  },
  {
   "cell_type": "code",
   "execution_count": 43,
   "metadata": {},
   "outputs": [
    {
     "data": {
      "text/plain": [
       "SGD (\n",
       "Parameter Group 0\n",
       "    dampening: 0\n",
       "    lr: 1e-05\n",
       "    momentum: 0\n",
       "    nesterov: False\n",
       "    weight_decay: 0\n",
       "\n",
       "Parameter Group 1\n",
       "    dampening: 0\n",
       "    lr: 0.01\n",
       "    momentum: 0\n",
       "    nesterov: False\n",
       "    weight_decay: 0\n",
       ")"
      ]
     },
     "execution_count": 43,
     "metadata": {},
     "output_type": "execute_result"
    }
   ],
   "source": [
    "# 为不同子网络设置不同的学习率，在finetune中经常用到\n",
    "# 如果对某个参数不指定学习率，就使用最外层的默认学习率\n",
    "optimizer =optim.SGD([\n",
    "                {'params': net.features.parameters()}, # 学习率为1e-5\n",
    "                {'params': net.classifier.parameters(), 'lr': 1e-2}\n",
    "            ], lr=1e-5)\n",
    "optimizer"
   ]
  },
  {
   "cell_type": "code",
   "execution_count": 44,
   "metadata": {},
   "outputs": [
    {
     "data": {
      "text/plain": [
       "SGD (\n",
       "Parameter Group 0\n",
       "    dampening: 0\n",
       "    lr: 0.001\n",
       "    momentum: 0\n",
       "    nesterov: False\n",
       "    weight_decay: 0\n",
       "\n",
       "Parameter Group 1\n",
       "    dampening: 0\n",
       "    lr: 0.01\n",
       "    momentum: 0\n",
       "    nesterov: False\n",
       "    weight_decay: 0\n",
       ")"
      ]
     },
     "execution_count": 44,
     "metadata": {},
     "output_type": "execute_result"
    }
   ],
   "source": [
    "# 只为两个全连接层设置较大的学习率，其余层的学习率较小\n",
    "special_layers = nn.ModuleList([net.classifier[0], net.classifier[3]])\n",
    "special_layers_params = list(map(id, special_layers.parameters()))\n",
    "base_params = filter(lambda p: id(p) not in special_layers_params,\n",
    "                     net.parameters())\n",
    "\n",
    "optimizer = t.optim.SGD([\n",
    "            {'params': base_params},\n",
    "            {'params': special_layers.parameters(), 'lr': 0.01}\n",
    "        ], lr=0.001 )\n",
    "optimizer"
   ]
  },
  {
   "cell_type": "code",
   "execution_count": 22,
   "metadata": {},
   "outputs": [],
   "source": [
    "special_layers = nn.ModuleList([net.classifier[0], net.classifier[3]])\n",
    "special_layers_params = list(map(id, special_layers.parameters()))#通过id函数返回唯一的标识符\n",
    "#map(id, special_layers.parameters())\n",
    "#special_layers"
   ]
  },
  {
   "cell_type": "code",
   "execution_count": 23,
   "metadata": {},
   "outputs": [
    {
     "name": "stdout",
     "output_type": "stream",
     "text": [
      "[1805900210496, 1805900205888]\n"
     ]
    }
   ],
   "source": [
    "print(list(map(id, special_layers.parameters())))"
   ]
  },
  {
   "cell_type": "markdown",
   "metadata": {},
   "source": [
    "对于如何调整学习率，主要有两种做法。一种是修改optimizer.param_groups中对应的学习率，另一种是更简单也是较为推荐的做法——新建优化器，由于optimizer十分轻量级，构建开销很小，故而可以构建新的optimizer。但是后者对于使用动量的优化器（如Adam），会丢失动量等状态信息，可能会造成损失函数的收敛出现震荡等情况。"
   ]
  },
  {
   "cell_type": "code",
   "execution_count": 48,
   "metadata": {},
   "outputs": [
    {
     "data": {
      "text/plain": [
       "SGD (\n",
       "Parameter Group 0\n",
       "    dampening: 0\n",
       "    lr: 1e-05\n",
       "    momentum: 0\n",
       "    nesterov: False\n",
       "    weight_decay: 0\n",
       "\n",
       "Parameter Group 1\n",
       "    dampening: 0\n",
       "    lr: 0.010000000000000002\n",
       "    momentum: 0\n",
       "    nesterov: False\n",
       "    weight_decay: 0\n",
       ")"
      ]
     },
     "execution_count": 48,
     "metadata": {},
     "output_type": "execute_result"
    }
   ],
   "source": [
    "# 方法1: 调整学习率，新建一个optimizer\n",
    "old_lr = 0.1\n",
    "optimizer1 =optim.SGD([\n",
    "                {'params': net.features.parameters()},\n",
    "                {'params': net.classifier.parameters(), 'lr': old_lr*0.1}\n",
    "            ], lr=1e-5)\n",
    "optimizer1"
   ]
  },
  {
   "cell_type": "code",
   "execution_count": 49,
   "metadata": {},
   "outputs": [
    {
     "data": {
      "text/plain": [
       "SGD (\n",
       "Parameter Group 0\n",
       "    dampening: 0\n",
       "    lr: 1.0000000000000002e-06\n",
       "    momentum: 0\n",
       "    nesterov: False\n",
       "    weight_decay: 0\n",
       "\n",
       "Parameter Group 1\n",
       "    dampening: 0\n",
       "    lr: 0.0010000000000000002\n",
       "    momentum: 0\n",
       "    nesterov: False\n",
       "    weight_decay: 0\n",
       ")"
      ]
     },
     "execution_count": 49,
     "metadata": {},
     "output_type": "execute_result"
    }
   ],
   "source": [
    "# 方法2: 调整学习率, 手动decay, 保存动量\n",
    "for param_group in optimizer.param_groups:\n",
    "    param_group['lr'] *= 0.1 # 学习率为之前的0.1倍\n",
    "optimizer"
   ]
  },
  {
   "cell_type": "markdown",
   "metadata": {},
   "source": [
    "### 4.3 nn.functional\n",
    "\n",
    "nn中还有一个很常用的模块：`nn.functional`，nn中的大多数layer，在`functional`中都有一个与之相对应的函数。`nn.functional`中的函数和`nn.Module`的主要区别在于，用nn.Module实现的layers是一个特殊的类，都是由`class layer(nn.Module)`定义，会自动提取可学习的参数。而`nn.functional`中的函数更像是纯函数，由`def function(input)`定义。下面举例说明functional的使用，并指出二者的不同之处。"
   ]
  },
  {
   "cell_type": "code",
   "execution_count": 50,
   "metadata": {},
   "outputs": [
    {
     "data": {
      "text/plain": [
       "tensor([[ 1,  1,  1,  1],\n",
       "        [ 1,  1,  1,  1]], dtype=torch.uint8)"
      ]
     },
     "execution_count": 50,
     "metadata": {},
     "output_type": "execute_result"
    }
   ],
   "source": [
    "input = t.randn(2, 3)\n",
    "model = nn.Linear(3, 4)\n",
    "output1 = model(input)\n",
    "output2 = nn.functional.linear(input, model.weight, model.bias)\n",
    "output1 == output2"
   ]
  },
  {
   "cell_type": "code",
   "execution_count": 51,
   "metadata": {},
   "outputs": [
    {
     "data": {
      "text/plain": [
       "tensor([[ 1,  1,  1],\n",
       "        [ 1,  1,  1]], dtype=torch.uint8)"
      ]
     },
     "execution_count": 51,
     "metadata": {},
     "output_type": "execute_result"
    }
   ],
   "source": [
    "b = nn.functional.relu(input)\n",
    "b2 = nn.ReLU()(input)\n",
    "b == b2"
   ]
  },
  {
   "cell_type": "markdown",
   "metadata": {},
   "source": [
    "此时读者可能会问，应该什么时候使用nn.Module，什么时候使用nn.functional呢？答案很简单，如果模型有可学习的参数，最好用nn.Module，否则既可以使用nn.functional也可以使用nn.Module，二者在性能上没有太大差异，具体的使用取决于个人的喜好。如激活函数（ReLU、sigmoid、tanh），池化（MaxPool）等层由于没有可学习参数，则可以使用对应的functional函数代替，而对于卷积、全连接等具有可学习参数的网络建议使用nn.Module。下面举例说明，如何在模型中搭配使用nn.Module和nn.functional。另外虽然dropout操作也没有可学习操作，但建议还是使用`nn.Dropout`而不是`nn.functional.dropout`，因为dropout在训练和测试两个阶段的行为有所差别，使用`nn.Module`对象能够通过`model.eval`操作加以区分。"
   ]
  },
  {
   "cell_type": "code",
   "execution_count": 52,
   "metadata": {},
   "outputs": [],
   "source": [
    "from torch.nn import functional as F\n",
    "class Net(nn.Module):\n",
    "    def __init__(self):\n",
    "        super(Net, self).__init__()\n",
    "        self.conv1 = nn.Conv2d(3, 6, 5)\n",
    "        self.conv2 = nn.Conv2d(6, 16, 5)\n",
    "        self.fc1 = nn.Linear(16 * 5 * 5, 120)\n",
    "        self.fc2 = nn.Linear(120, 84)\n",
    "        self.fc3 = nn.Linear(84, 10)\n",
    "\n",
    "    def forward(self, x):\n",
    "        x = F.pool(F.relu(self.conv1(x)), 2)\n",
    "        x = F.pool(F.relu(self.conv2(x)), 2)\n",
    "        x = x.view(-1, 16 * 5 * 5)\n",
    "        x = F.relu(self.fc1(x))\n",
    "        x = F.relu(self.fc2(x))\n",
    "        x = self.fc3(x)\n",
    "        return x"
   ]
  },
  {
   "cell_type": "markdown",
   "metadata": {},
   "source": [
    "对于不具备可学习参数的层（激活层、池化层等），将它们用函数代替，这样则可以不用放置在构造函数`__init__`中。对于有可学习参数的模块，也可以用functional来代替，只不过实现起来较为繁琐，需要手动定义参数parameter，如前面实现自定义的全连接层，就可将weight和bias两个参数单独拿出来，在构造函数中初始化为parameter。"
   ]
  },
  {
   "cell_type": "code",
   "execution_count": 53,
   "metadata": {},
   "outputs": [],
   "source": [
    "class MyLinear(nn.Module):\n",
    "    def __init__(self):\n",
    "        super(MyLinear, self).__init__()\n",
    "        self.weight = nn.Parameter(t.randn(3, 4))\n",
    "        self.bias = nn.Parameter(t.zeros(3))\n",
    "    def forward(self):\n",
    "        return F.linear(input, weight, bias)"
   ]
  },
  {
   "cell_type": "markdown",
   "metadata": {},
   "source": [
    "关于nn.functional的设计初衷，以及它和nn.Module更多的比较说明，可参看论坛的讨论和作者说明[^6]。\n",
    "[^6]: https://discuss.pytorch.org/search?q=nn.functional"
   ]
  },
  {
   "cell_type": "markdown",
   "metadata": {},
   "source": [
    "### 4.4 初始化策略\n",
    "在深度学习中参数的初始化十分重要，良好的初始化能让模型更快收敛，并达到更高水平，而糟糕的初始化则可能使得模型迅速瘫痪。PyTorch中nn.Module的模块参数都采取了较为合理的初始化策略，因此一般不用我们考虑，当然我们也可以用自定义初始化去代替系统的默认初始化。而当我们在使用Parameter时，自定义初始化则尤为重要，因t.Tensor()返回的是内存中的随机数，很可能会有极大值，这在实际训练网络中会造成溢出或者梯度消失。PyTorch中`nn.init`模块就是专门为初始化而设计，如果某种初始化策略`nn.init`不提供，用户也可以自己直接初始化。"
   ]
  },
  {
   "cell_type": "code",
   "execution_count": 55,
   "metadata": {},
   "outputs": [
    {
     "data": {
      "text/plain": [
       "Parameter containing:\n",
       "tensor([[ 0.3535,  0.1427,  0.0330],\n",
       "        [ 0.3321, -0.2416, -0.0888],\n",
       "        [-0.8140,  0.2040, -0.5493],\n",
       "        [-0.3010, -0.4769, -0.0311]])"
      ]
     },
     "execution_count": 55,
     "metadata": {},
     "output_type": "execute_result"
    }
   ],
   "source": [
    "# 利用nn.init初始化\n",
    "from torch.nn import init\n",
    "linear = nn.Linear(3, 4)\n",
    "\n",
    "t.manual_seed(1)\n",
    "# 等价于 linear.weight.data.normal_(0, std)\n",
    "init.xavier_normal_(linear.weight)"
   ]
  },
  {
   "cell_type": "code",
   "execution_count": 56,
   "metadata": {},
   "outputs": [
    {
     "data": {
      "text/plain": [
       "tensor([[ 0.3535,  0.1427,  0.0330],\n",
       "        [ 0.3321, -0.2416, -0.0888],\n",
       "        [-0.8140,  0.2040, -0.5493],\n",
       "        [-0.3010, -0.4769, -0.0311]])"
      ]
     },
     "execution_count": 56,
     "metadata": {},
     "output_type": "execute_result"
    }
   ],
   "source": [
    "# 直接初始化\n",
    "import math\n",
    "t.manual_seed(1)\n",
    "\n",
    "# xavier初始化的计算公式\n",
    "std = math.sqrt(2)/math.sqrt(7.)\n",
    "linear.weight.data.normal_(0,std)"
   ]
  },
  {
   "cell_type": "code",
   "execution_count": 57,
   "metadata": {},
   "outputs": [],
   "source": [
    "# 对模型的所有参数进行初始化\n",
    "for name, params in net.named_parameters():\n",
    "    if name.find('linear') != -1:\n",
    "        # init linear\n",
    "        params[0] # weight\n",
    "        params[1] # bias\n",
    "    elif name.find('conv') != -1:\n",
    "        pass\n",
    "    elif name.find('norm') != -1:\n",
    "        pass"
   ]
  },
  {
   "cell_type": "markdown",
   "metadata": {},
   "source": [
    "### 4.5 nn.Module深入分析\n",
    "\n",
    "如果想要更深入地理解nn.Module，究其原理是很有必要的。首先来看看nn.Module基类的构造函数：\n",
    "```python\n",
    "def __init__(self):\n",
    "    self._parameters = OrderedDict()\n",
    "    self._modules = OrderedDict()\n",
    "    self._buffers = OrderedDict()\n",
    "    self._backward_hooks = OrderedDict()\n",
    "    self._forward_hooks = OrderedDict()\n",
    "    self.training = True\n",
    "```\n",
    "其中每个属性的解释如下：\n",
    "\n",
    "- `_parameters`：字典，保存用户直接设置的parameter，`self.param1 = nn.Parameter(t.randn(3, 3))`会被检测到，在字典中加入一个key为'param'，value为对应parameter的item。而self.submodule = nn.Linear(3, 4)中的parameter则不会存于此。\n",
    "- `_modules`：子module，通过`self.submodel = nn.Linear(3, 4)`指定的子module会保存于此。\n",
    "- `_buffers`：缓存。如batchnorm使用momentum机制，每次前向传播需用到上一次前向传播的结果。\n",
    "- `_backward_hooks`与`_forward_hooks`：钩子技术，用来提取中间变量，类似variable的hook。\n",
    "- `training`：BatchNorm与Dropout层在训练阶段和测试阶段中采取的策略不同，通过判断training值来决定前向传播策略。\n",
    "\n",
    "上述几个属性中，`_parameters`、`_modules`和`_buffers`这三个字典中的键值，都可以通过`self.key`方式获得，效果等价于`self._parameters['key']`.\n",
    "\n",
    "下面举例说明。"
   ]
  },
  {
   "cell_type": "code",
   "execution_count": 58,
   "metadata": {},
   "outputs": [
    {
     "data": {
      "text/plain": [
       "Net(\n",
       "  (submodel1): Linear(in_features=3, out_features=4, bias=True)\n",
       ")"
      ]
     },
     "execution_count": 58,
     "metadata": {},
     "output_type": "execute_result"
    }
   ],
   "source": [
    "class Net(nn.Module):\n",
    "    def __init__(self):\n",
    "        super(Net, self).__init__()\n",
    "        # 等价与self.register_parameter('param1' ,nn.Parameter(t.randn(3, 3)))\n",
    "        self.param1 = nn.Parameter(t.rand(3, 3))\n",
    "        self.submodel1 = nn.Linear(3, 4) \n",
    "    def forward(self, input):\n",
    "        x = self.param1.mm(input)\n",
    "        x = self.submodel1(x)\n",
    "        return x\n",
    "net = Net()\n",
    "net"
   ]
  },
  {
   "cell_type": "code",
   "execution_count": 59,
   "metadata": {},
   "outputs": [
    {
     "data": {
      "text/plain": [
       "OrderedDict([('submodel1', Linear(in_features=3, out_features=4, bias=True))])"
      ]
     },
     "execution_count": 59,
     "metadata": {},
     "output_type": "execute_result"
    }
   ],
   "source": [
    "net._modules"
   ]
  },
  {
   "cell_type": "code",
   "execution_count": 60,
   "metadata": {},
   "outputs": [
    {
     "data": {
      "text/plain": [
       "OrderedDict([('param1', Parameter containing:\n",
       "              tensor([[ 0.3398,  0.5239,  0.7981],\n",
       "                      [ 0.7718,  0.0112,  0.8100],\n",
       "                      [ 0.6397,  0.9743,  0.8300]]))])"
      ]
     },
     "execution_count": 60,
     "metadata": {},
     "output_type": "execute_result"
    }
   ],
   "source": [
    "net._parameters"
   ]
  },
  {
   "cell_type": "code",
   "execution_count": 61,
   "metadata": {
    "scrolled": true
   },
   "outputs": [
    {
     "data": {
      "text/plain": [
       "Parameter containing:\n",
       "tensor([[ 0.3398,  0.5239,  0.7981],\n",
       "        [ 0.7718,  0.0112,  0.8100],\n",
       "        [ 0.6397,  0.9743,  0.8300]])"
      ]
     },
     "execution_count": 61,
     "metadata": {},
     "output_type": "execute_result"
    }
   ],
   "source": [
    "net.param1 # 等价于net._parameters['param1']"
   ]
  },
  {
   "cell_type": "code",
   "execution_count": 62,
   "metadata": {},
   "outputs": [
    {
     "name": "stdout",
     "output_type": "stream",
     "text": [
      "param1 torch.Size([3, 3])\n",
      "submodel1.weight torch.Size([4, 3])\n",
      "submodel1.bias torch.Size([4])\n"
     ]
    }
   ],
   "source": [
    "for name, param in net.named_parameters():\n",
    "    print(name, param.size())"
   ]
  },
  {
   "cell_type": "code",
   "execution_count": 63,
   "metadata": {},
   "outputs": [
    {
     "name": "stdout",
     "output_type": "stream",
     "text": [
      " Net(\n",
      "  (submodel1): Linear(in_features=3, out_features=4, bias=True)\n",
      ")\n",
      "submodel1 Linear(in_features=3, out_features=4, bias=True)\n"
     ]
    }
   ],
   "source": [
    "for name, submodel in net.named_modules():\n",
    "    print(name, submodel)"
   ]
  },
  {
   "cell_type": "code",
   "execution_count": 64,
   "metadata": {},
   "outputs": [
    {
     "data": {
      "text/plain": [
       "OrderedDict([('running_mean', tensor(1.00000e-02 *\n",
       "                     [ 5.1362,  7.4864])),\n",
       "             ('running_var', tensor([ 0.9116,  0.9068]))])"
      ]
     },
     "execution_count": 64,
     "metadata": {},
     "output_type": "execute_result"
    }
   ],
   "source": [
    "bn = nn.BatchNorm1d(2)\n",
    "input = t.rand(3, 2)\n",
    "output = bn(input)\n",
    "bn._buffers"
   ]
  },
  {
   "cell_type": "markdown",
   "metadata": {},
   "source": [
    "nn.Module在实际使用中可能层层嵌套，一个module包含若干个子module，每一个子module又包含了更多的子module。为方便用户访问各个子module，nn.Module实现了很多方法，如函数`children`可以查看直接子module，函数`module`可以查看所有的子module（包括当前module）。与之相对应的还有函数`named_childen`和`named_modules`，其能够在返回module列表的同时返回它们的名字。"
   ]
  },
  {
   "cell_type": "code",
   "execution_count": 65,
   "metadata": {},
   "outputs": [
    {
     "data": {
      "text/plain": [
       "tensor([[  0.,   2.,   0.,   0.],\n",
       "        [  8.,   0.,  12.,  14.],\n",
       "        [ 16.,   0.,   0.,  22.]])"
      ]
     },
     "execution_count": 65,
     "metadata": {},
     "output_type": "execute_result"
    }
   ],
   "source": [
    "input = t.arange(0, 12).view(3, 4)\n",
    "model = nn.Dropout()\n",
    "# 在训练阶段，会有一半左右的数被随机置为0\n",
    "model(input)"
   ]
  },
  {
   "cell_type": "code",
   "execution_count": 66,
   "metadata": {},
   "outputs": [
    {
     "data": {
      "text/plain": [
       "tensor([[  0.,   1.,   2.,   3.],\n",
       "        [  4.,   5.,   6.,   7.],\n",
       "        [  8.,   9.,  10.,  11.]])"
      ]
     },
     "execution_count": 66,
     "metadata": {},
     "output_type": "execute_result"
    }
   ],
   "source": [
    "model.training  = False\n",
    "# 在测试阶段，dropout什么都不做\n",
    "model(input)"
   ]
  },
  {
   "cell_type": "markdown",
   "metadata": {},
   "source": [
    "对于batchnorm、dropout、instancenorm等在训练和测试阶段行为差距巨大的层，如果在测试时不将其training值设为True，则可能会有很大影响，这在实际使用中要千万注意。虽然可通过直接设置`training`属性，来将子module设为train和eval模式，但这种方式较为繁琐，因如果一个模型具有多个dropout层，就需要为每个dropout层指定training属性。更为推荐的做法是调用`model.train()`函数，它会将当前module及其子module中的所有training属性都设为True，相应的，`model.eval()`函数会把training属性都设为False。"
   ]
  },
  {
   "cell_type": "code",
   "execution_count": 67,
   "metadata": {},
   "outputs": [
    {
     "name": "stdout",
     "output_type": "stream",
     "text": [
      "True True\n"
     ]
    },
    {
     "data": {
      "text/plain": [
       "(False, False)"
      ]
     },
     "execution_count": 67,
     "metadata": {},
     "output_type": "execute_result"
    }
   ],
   "source": [
    "print(net.training, net.submodel1.training)\n",
    "net.eval()\n",
    "net.training, net.submodel1.training"
   ]
  },
  {
   "cell_type": "code",
   "execution_count": 68,
   "metadata": {},
   "outputs": [
    {
     "data": {
      "text/plain": [
       "[('', Net(\n",
       "    (submodel1): Linear(in_features=3, out_features=4, bias=True)\n",
       "  )), ('submodel1', Linear(in_features=3, out_features=4, bias=True))]"
      ]
     },
     "execution_count": 68,
     "metadata": {},
     "output_type": "execute_result"
    }
   ],
   "source": [
    "list(net.named_modules())"
   ]
  },
  {
   "cell_type": "markdown",
   "metadata": {},
   "source": [
    "`register_forward_hook`与`register_backward_hook`，这两个函数的功能类似于variable函数的`register_hook`，可在module前向传播或反向传播时注册钩子。每次前向传播执行结束后会执行钩子函数（hook）。前向传播的钩子函数具有如下形式：`hook(module, input, output) -> None`，而反向传播则具有如下形式：`hook(module, grad_input, grad_output) -> Tensor or None`。钩子函数不应修改输入和输出，并且在使用后应及时删除，以避免每次都运行钩子增加运行负载。钩子函数主要用在获取某些中间结果的情景，如中间某一层的输出或某一层的梯度。这些结果本应写在forward函数中，但如果在forward函数中专门加上这些处理，可能会使处理逻辑比较复杂，这时候使用钩子技术就更合适一些。下面考虑一种场景，有一个预训练好的模型，需要提取模型的某一层（不是最后一层）的输出作为特征进行分类，但又不希望修改其原有的模型定义文件，这时就可以利用钩子函数。下面给出实现的伪代码。\n",
    "```python\n",
    "model = VGG()\n",
    "features = t.Tensor()\n",
    "def hook(module, input, output):\n",
    "    '''把这层的输出拷贝到features中'''\n",
    "    features.copy_(output.data)\n",
    "    \n",
    "handle = model.layer8.register_forward_hook(hook)\n",
    "_ = model(input)\n",
    "# 用完hook后删除\n",
    "handle.remove()\n",
    "```"
   ]
  },
  {
   "cell_type": "markdown",
   "metadata": {},
   "source": [
    "`nn.Module`对象在构造函数中的行为看起来有些怪异，如果想要真正掌握其原理，就需要看两个魔法方法`__getattr__`和`__setattr__`。在Python中有两个常用的buildin方法`getattr`和`setattr`，`getattr(obj, 'attr1')`等价于`obj.attr`，如果`getattr`函数无法找到所需属性，Python会转而调用`obj.__getattr__('attr1')`方法，即`getattr`函数无法找到的交给`__getattr__`函数处理，没有实现`__getattr__`或者`__getattr__`也无法处理的就会raise AttributeError。`setattr(obj, 'name', value)`等价于`obj.name=value`，如果obj对象实现了`__setattr__`方法，setattr会直接调用`obj.__setattr__('name', value)`，否则调用buildin方法。总结一下：\n",
    "- result  = obj.name会调用buildin函数`getattr(obj, 'name')`，如果该属性找不到，会调用`obj.__getattr__('name')`\n",
    "- obj.name = value会调用buildin函数`setattr(obj, 'name', value)`，如果obj对象实现了`__setattr__`方法，`setattr`会直接调用`obj.__setattr__('name', value')`"
   ]
  },
  {
   "cell_type": "markdown",
   "metadata": {},
   "source": [
    "nn.Module实现了自定义的`__setattr__`函数，当执行`module.name=value`时，会在`__setattr__`中判断value是否为`Parameter`或`nn.Module`对象，如果是则将这些对象加到`_parameters`和`_modules`两个字典中，而如果是其它类型的对象，如`Variable`、`list`、`dict`等，则调用默认的操作，将这个值保存在`__dict__`中。"
   ]
  },
  {
   "cell_type": "code",
   "execution_count": 69,
   "metadata": {},
   "outputs": [
    {
     "data": {
      "text/plain": [
       "OrderedDict([('param', Parameter containing:\n",
       "              tensor([[ 1.,  1.],\n",
       "                      [ 1.,  1.]]))])"
      ]
     },
     "execution_count": 69,
     "metadata": {},
     "output_type": "execute_result"
    }
   ],
   "source": [
    "module = nn.Module()\n",
    "module.param = nn.Parameter(t.ones(2, 2))\n",
    "module._parameters"
   ]
  },
  {
   "cell_type": "code",
   "execution_count": 70,
   "metadata": {},
   "outputs": [
    {
     "name": "stdout",
     "output_type": "stream",
     "text": [
      "_modules:  OrderedDict()\n",
      "__dict__['submodules']: [Linear(in_features=2, out_features=2, bias=True), Linear(in_features=2, out_features=2, bias=True)]\n"
     ]
    }
   ],
   "source": [
    "submodule1 = nn.Linear(2, 2)\n",
    "submodule2 = nn.Linear(2, 2)\n",
    "module_list =  [submodule1, submodule2]\n",
    "# 对于list对象，调用buildin函数，保存在__dict__中\n",
    "module.submodules = module_list\n",
    "print('_modules: ', module._modules)\n",
    "print(\"__dict__['submodules']:\",module.__dict__.get('submodules'))"
   ]
  },
  {
   "cell_type": "code",
   "execution_count": 71,
   "metadata": {
    "scrolled": true
   },
   "outputs": [
    {
     "name": "stdout",
     "output_type": "stream",
     "text": [
      "ModuleList is instance of nn.Module:  True\n",
      "_modules:  OrderedDict([('submodules', ModuleList(\n",
      "  (0): Linear(in_features=2, out_features=2, bias=True)\n",
      "  (1): Linear(in_features=2, out_features=2, bias=True)\n",
      "))])\n",
      "__dict__['submodules']: None\n"
     ]
    }
   ],
   "source": [
    "module_list = nn.ModuleList(module_list)\n",
    "module.submodules = module_list\n",
    "print('ModuleList is instance of nn.Module: ', isinstance(module_list, nn.Module))\n",
    "print('_modules: ', module._modules)\n",
    "print(\"__dict__['submodules']:\", module.__dict__.get('submodules'))"
   ]
  },
  {
   "cell_type": "markdown",
   "metadata": {},
   "source": [
    "因`_modules`和`_parameters`中的item未保存在`__dict__`中，所以默认的getattr方法无法获取它，因而`nn.Module`实现了自定义的`__getattr__`方法，如果默认的`getattr`无法处理，就调用自定义的`__getattr__`方法，尝试从`_modules`、`_parameters`和`_buffers`这三个字典中获取。"
   ]
  },
  {
   "cell_type": "code",
   "execution_count": 74,
   "metadata": {},
   "outputs": [
    {
     "data": {
      "text/plain": [
       "True"
      ]
     },
     "execution_count": 74,
     "metadata": {},
     "output_type": "execute_result"
    }
   ],
   "source": [
    "getattr(module, 'training') # 等价于module.training\n",
    "# error\n",
    "# module.__getattr__('training')"
   ]
  },
  {
   "cell_type": "code",
   "execution_count": 75,
   "metadata": {},
   "outputs": [
    {
     "data": {
      "text/plain": [
       "2"
      ]
     },
     "execution_count": 75,
     "metadata": {},
     "output_type": "execute_result"
    }
   ],
   "source": [
    "module.attr1 = 2\n",
    "getattr(module, 'attr1')\n",
    "# 报错\n",
    "# module.__getattr__('attr1')"
   ]
  },
  {
   "cell_type": "code",
   "execution_count": 76,
   "metadata": {},
   "outputs": [
    {
     "data": {
      "text/plain": [
       "Parameter containing:\n",
       "tensor([[ 1.,  1.],\n",
       "        [ 1.,  1.]])"
      ]
     },
     "execution_count": 76,
     "metadata": {},
     "output_type": "execute_result"
    }
   ],
   "source": [
    "# 即module.param, 会调用module.__getattr__('param')\n",
    "getattr(module, 'param')"
   ]
  },
  {
   "cell_type": "markdown",
   "metadata": {},
   "source": [
    "在PyTorch中保存模型十分简单，所有的Module对象都具有state_dict()函数，返回当前Module所有的状态数据。将这些状态数据保存后，下次使用模型时即可利用`model.load_state_dict()`函数将状态加载进来。优化器（optimizer）也有类似的机制，不过一般并不需要保存优化器的运行状态。"
   ]
  },
  {
   "cell_type": "code",
   "execution_count": 77,
   "metadata": {},
   "outputs": [],
   "source": [
    "# 保存模型\n",
    "t.save(net.state_dict(), 'net.pth')\n",
    "\n",
    "# 加载已保存的模型\n",
    "net2 = Net()\n",
    "net2.load_state_dict(t.load('net.pth'))"
   ]
  },
  {
   "cell_type": "markdown",
   "metadata": {},
   "source": [
    "实际上还有另外一种保存方法，但因其严重依赖模型定义方式及文件路径结构等，很容易出问题，因而不建议使用。"
   ]
  },
  {
   "cell_type": "code",
   "execution_count": 56,
   "metadata": {
    "scrolled": false
   },
   "outputs": [
    {
     "name": "stderr",
     "output_type": "stream",
     "text": [
      "/usr/local/lib/python3.5/dist-packages/torch/serialization.py:158: UserWarning: Couldn't retrieve source code for container of type Net. It won't be checked for correctness upon loading.\n",
      "  \"type \" + obj.__name__ + \". It won't be checked \"\n"
     ]
    },
    {
     "data": {
      "text/plain": [
       "Net(\n",
       "  (submodel1): Linear(in_features=3, out_features=4)\n",
       ")"
      ]
     },
     "execution_count": 56,
     "metadata": {},
     "output_type": "execute_result"
    }
   ],
   "source": [
    "t.save(net, 'net_all.pth')\n",
    "net2 = t.load('net_all.pth')\n",
    "net2"
   ]
  },
  {
   "cell_type": "markdown",
   "metadata": {},
   "source": [
    "将Module放在GPU上运行也十分简单，只需两步：\n",
    "- model = model.cuda()：将模型的所有参数转存到GPU\n",
    "- input.cuda()：将输入数据也放置到GPU上\n",
    "\n",
    "至于如何在多个GPU上并行计算，PyTorch也提供了两个函数，可实现简单高效的并行GPU计算\n",
    "- nn.parallel.data_parallel(module, inputs, device_ids=None, output_device=None, dim=0, module_kwargs=None)\n",
    "- class torch.nn.DataParallel(module, device_ids=None, output_device=None, dim=0)\n",
    "\n",
    "可见二者的参数十分相似，通过`device_ids`参数可以指定在哪些GPU上进行优化，output_device指定输出到哪个GPU上。唯一的不同就在于前者直接利用多GPU并行计算得出结果，而后者则返回一个新的module，能够自动在多GPU上进行并行加速。\n",
    "\n",
    "```\n",
    "# method 1\n",
    "new_net = nn.DataParallel(net, device_ids=[0, 1])\n",
    "output = new_net(input)\n",
    "\n",
    "# method 2\n",
    "output = nn.parallel.data_parallel(new_net, input, device_ids=[0, 1])\n",
    "```"
   ]
  },
  {
   "cell_type": "markdown",
   "metadata": {},
   "source": [
    "DataParallel并行的方式，是将输入一个batch的数据均分成多份，分别送到对应的GPU进行计算，各个GPU得到的梯度累加。与Module相关的所有数据也都会以浅复制的方式复制多份，在此需要注意，在module中属性应该是只读的。"
   ]
  },
  {
   "cell_type": "markdown",
   "metadata": {},
   "source": [
    "### 4.6 nn和autograd的关系\n",
    "nn.Module利用的也是autograd技术，其主要工作是实现前向传播。在forward函数中，nn.Module对输入的tensor进行的各种操作，本质上都是用到了autograd技术。这里需要对比autograd.Function和nn.Module之间的区别：\n",
    "- autograd.Function利用了Tensor对autograd技术的扩展，为autograd实现了新的运算op，不仅要实现前向传播还要手动实现反向传播\n",
    "- nn.Module利用了autograd技术，对nn的功能进行扩展，实现了深度学习中更多的层。只需实现前向传播功能，autograd即会自动实现反向传播\n",
    "- nn.functional是一些autograd操作的集合，是经过封装的函数\n",
    "\n",
    "作为两大类扩充PyTorch接口的方法，我们在实际使用中应该如何选择呢？如果某一个操作，在autograd中尚未支持，那么只能实现Function接口对应的前向传播和反向传播。如果某些时候利用autograd接口比较复杂，则可以利用Function将多个操作聚合，实现优化，正如第三章所实现的`Sigmoid`一样，比直接利用autograd低级别的操作要快。而如果只是想在深度学习中增加某一层，使用nn.Module进行封装则更为简单高效。"
   ]
  },
  {
   "cell_type": "markdown",
   "metadata": {},
   "source": [
    "### 4.7 小试牛刀：搭建ResNet\n",
    "Kaiming He的深度残差网络（ResNet）[^7]在深度学习的发展中起到了很重要的作用，ResNet不仅一举拿下了当年CV下多个比赛项目的冠军，更重要的是这一结构解决了训练极深网络时的梯度消失问题。\n",
    "\n",
    "首先来看看ResNet的网络结构，这里选取的是ResNet的一个变种：ResNet34。ResNet的网络结构如图4-2所示，可见除了最开始的卷积池化和最后的池化全连接之外，网络中有很多结构相似的单元，这些重复单元的共同点就是有个跨层直连的shortcut。ResNet中将一个跨层直连的单元称为Residual block，其结构如图4-3所示，左边部分是普通的卷积网络结构，右边是直连，但如果输入和输出的通道数不一致，或其步长不为1，那么就需要有一个专门的单元将二者转成一致，使其可以相加。\n",
    "\n",
    "另外我们可以发现Residual block的大小也是有规律的，在最开始的pool之后有连续的几个一模一样的Residual block单元，这些单元的通道数一样，在这里我们将这几个拥有多个Residual block单元的结构称之为layer，注意和之前讲的layer区分开来，这里的layer是几个层的集合。\n",
    "\n",
    "考虑到Residual block和layer出现了多次，我们可以把它们实现为一个子Module或函数。这里我们将Residual block实现为一个子moduke，而将layer实现为一个函数。下面是实现代码，规律总结如下：\n",
    "\n",
    "- 对于模型中的重复部分，实现为子module或用函数生成相应的module`make_layer`\n",
    "- nn.Module和nn.Functional结合使用\n",
    "- 尽量使用`nn.Seqential`\n",
    "\n",
    "![图4-2: ResNet34网络结构](imgs/resnet1.png)\n",
    "![图4-3: Residual block 结构图](imgs/residual.png)\n",
    " [^7]: He K, Zhang X, Ren S, et al. Deep residual learning for image recognition[C]//Proceedings of the IEEE Conference on Computer Vision and Pattern Recognition. 2016: 770-778."
   ]
  },
  {
   "cell_type": "code",
   "execution_count": 78,
   "metadata": {},
   "outputs": [],
   "source": [
    "from torch import  nn\n",
    "import torch as t\n",
    "from torch.nn import  functional as F"
   ]
  },
  {
   "cell_type": "code",
   "execution_count": 79,
   "metadata": {},
   "outputs": [],
   "source": [
    "class ResidualBlock(nn.Module):\n",
    "    '''\n",
    "    实现子module: Residual Block\n",
    "    '''\n",
    "    def __init__(self, inchannel, outchannel, stride=1, shortcut=None):\n",
    "        super(ResidualBlock, self).__init__()\n",
    "        self.left = nn.Sequential(\n",
    "                nn.Conv2d(inchannel,outchannel,3,stride, 1,bias=False),\n",
    "                nn.BatchNorm2d(outchannel),\n",
    "                nn.ReLU(inplace=True),\n",
    "                nn.Conv2d(outchannel,outchannel,3,1,1,bias=False),\n",
    "                nn.BatchNorm2d(outchannel) )\n",
    "        self.right = shortcut\n",
    "\n",
    "    def forward(self, x):\n",
    "        out = self.left(x)\n",
    "        residual = x if self.right is None else self.right(x)\n",
    "        out += residual\n",
    "        return F.relu(out)\n",
    "\n",
    "class ResNet(nn.Module):\n",
    "    '''\n",
    "    实现主module：ResNet34\n",
    "    ResNet34 包含多个layer，每个layer又包含多个residual block\n",
    "    用子module来实现residual block，用_make_layer函数来实现layer\n",
    "    '''\n",
    "    def __init__(self, num_classes=1000):\n",
    "        super(ResNet, self).__init__()\n",
    "        # 前几层图像转换\n",
    "        self.pre = nn.Sequential(\n",
    "                nn.Conv2d(3, 64, 7, 2, 3, bias=False),\n",
    "                nn.BatchNorm2d(64),\n",
    "                nn.ReLU(inplace=True),\n",
    "                nn.MaxPool2d(3, 2, 1))\n",
    "        \n",
    "        # 重复的layer，分别有3，4，6，3个residual block\n",
    "        self.layer1 = self._make_layer( 64, 64, 3)\n",
    "        self.layer2 = self._make_layer( 64, 128, 4, stride=2)\n",
    "        self.layer3 = self._make_layer( 128, 256, 6, stride=2)\n",
    "        self.layer4 = self._make_layer( 256, 512, 3, stride=2)\n",
    "\n",
    "        #分类用的全连接\n",
    "        self.fc = nn.Linear(512, num_classes)\n",
    "    \n",
    "    def _make_layer(self,  inchannel, outchannel, block_num, stride=1):\n",
    "        '''\n",
    "        构建layer,包含多个residual block\n",
    "        '''\n",
    "        shortcut = nn.Sequential(\n",
    "                nn.Conv2d(inchannel,outchannel,1,stride, bias=False),\n",
    "                nn.BatchNorm2d(outchannel))\n",
    "        \n",
    "        layers = []\n",
    "        layers.append(ResidualBlock(inchannel, outchannel, stride, shortcut))\n",
    "        \n",
    "        for i in range(1, block_num):\n",
    "            layers.append(ResidualBlock(outchannel, outchannel))\n",
    "        return nn.Sequential(*layers)\n",
    "        \n",
    "    def forward(self, x):\n",
    "        x = self.pre(x)\n",
    "        \n",
    "        x = self.layer1(x)\n",
    "        x = self.layer2(x)\n",
    "        x = self.layer3(x)\n",
    "        x = self.layer4(x)\n",
    "\n",
    "        x = F.avg_pool2d(x, 7)\n",
    "        x = x.view(x.size(0), -1)\n",
    "        return self.fc(x)"
   ]
  },
  {
   "cell_type": "code",
   "execution_count": 80,
   "metadata": {},
   "outputs": [],
   "source": [
    "model = ResNet()\n",
    "input  = t.randn(1, 3, 224, 224)\n",
    "o = model(input)"
   ]
  },
  {
   "cell_type": "markdown",
   "metadata": {},
   "source": [
    "感兴趣的读者可以尝试实现Google的Inception网络结构或ResNet的其它变体，看看如何能够简洁明了地实现它，实现代码尽量控制在80行以内（本例去掉空行和注释总共不超过50行）。另外，与PyTorch配套的图像工具包`torchvision`已经实现了深度学习中大多数经典的模型，其中就包括ResNet34，读者可以通过下面两行代码使用：\n",
    "```python\n",
    "from torchvision import models\n",
    "model = models.resnet34()\n",
    "```\n",
    "本例中ResNet34的实现就是参考了torchvision中的实现并做了简化，感兴趣的读者可以阅读相应的源码，比较这里的实现和torchvision中实现的不同。"
   ]
  }
 ],
 "metadata": {
  "kernelspec": {
   "display_name": "Python 2",
   "language": "python",
   "name": "python2"
  },
  "language_info": {
   "codemirror_mode": {
    "name": "ipython",
    "version": 2
   },
   "file_extension": ".py",
   "mimetype": "text/x-python",
   "name": "python",
   "nbconvert_exporter": "python",
   "pygments_lexer": "ipython2",
   "version": "2.7.6"
  }
 },
 "nbformat": 4,
 "nbformat_minor": 2
}
