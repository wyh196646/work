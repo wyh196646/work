{
 "cells": [
  {
   "cell_type": "raw",
   "metadata": {},
   "source": []
  },
  {
   "cell_type": "raw",
   "metadata": {},
   "source": [
    " temp=[1,3,5,5]cdd"
   ]
  },
  {
   "cell_type": "raw",
   "metadata": {},
   "source": []
  },
  {
   "cell_type": "code",
   "execution_count": 7,
   "metadata": {},
   "outputs": [
    {
     "name": "stdout",
     "output_type": "stream",
     "text": [
      " batch:0 x:tensor([[1, 1, 1],\n",
      "        [3, 3, 3]])  y: tensor([1, 3])\n",
      " batch:1 x:tensor([[2, 2, 2],\n",
      "        [4, 4, 4]])  y: tensor([2, 4])\n"
     ]
    }
   ],
   "source": [
    "import torch\n",
    "from torch.utils.data import TensorDataset\n",
    "from torch.utils.data import DataLoader\n",
    "\n",
    "a = torch.tensor([[1,1,1],[2,2,2],[3,3,3],[4,4,4]])\n",
    "b = torch.tensor([1,2,3,4])\n",
    "train_data = TensorDataset(a,b)\n",
    "data = DataLoader(train_data, batch_size=2, shuffle=True)\n",
    "for i, j in enumerate(data):\n",
    "    x, y = j\n",
    "    print(' batch:{0} x:{1}  y: {2}'.format(i, x, y))\n"
   ]
  },
  {
   "cell_type": "code",
   "execution_count": 13,
   "metadata": {},
   "outputs": [
    {
     "data": {
      "text/plain": "torch.utils.data.dataloader.DataLoader"
     },
     "execution_count": 13,
     "metadata": {},
     "output_type": "execute_result"
    }
   ],
   "source": [
    "type(data)"
   ]
  },
  {
   "cell_type": "code",
   "execution_count": 1,
   "metadata": {},
   "outputs": [],
   "source": [
    "bupt=[1,2,34,56,2]"
   ]
  },
  {
   "cell_type": "code",
   "execution_count": 9,
   "metadata": {},
   "outputs": [],
   "source": [
    "multistep_preds=torch.zeros(100)"
   ]
  },
  {
   "cell_type": "code",
   "execution_count": 11,
   "metadata": {},
   "outputs": [
    {
     "data": {
      "text/plain": "torch.Size([100])"
     },
     "execution_count": 11,
     "metadata": {},
     "output_type": "execute_result"
    }
   ],
   "source": [
    "multistep_preds.shape"
   ]
  }
 ],
 "metadata": {
  "kernelspec": {
   "display_name": "Python 3.8.8 64-bit ('base': conda)",
   "name": "python388jvsc74a57bd02dca042c83a2e760bd8a1583b6ea07189fffb357dd0c26afb2c2f44bc7371b3e"
  },
  "language_info": {
   "name": "python",
   "version": ""
  },
  "orig_nbformat": 2
 },
 "nbformat": 4,
 "nbformat_minor": 2
}