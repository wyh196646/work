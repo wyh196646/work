{
 "cells": [
  {
   "cell_type": "code",
   "execution_count": 2,
   "id": "62dc7544",
   "metadata": {},
   "outputs": [
    {
     "ename": "ModuleNotFoundError",
     "evalue": "No module named 'pytorch'",
     "output_type": "error",
     "traceback": [
      "\u001b[1;31m---------------------------------------------------------------------------\u001b[0m",
      "\u001b[1;31mModuleNotFoundError\u001b[0m                       Traceback (most recent call last)",
      "\u001b[1;32m<ipython-input-2-815d127f3035>\u001b[0m in \u001b[0;36m<module>\u001b[1;34m\u001b[0m\n\u001b[0;32m      1\u001b[0m \u001b[1;32mfrom\u001b[0m \u001b[0mPIL\u001b[0m \u001b[1;32mimport\u001b[0m \u001b[0mImage\u001b[0m\u001b[1;33m\u001b[0m\u001b[1;33m\u001b[0m\u001b[0m\n\u001b[0;32m      2\u001b[0m \u001b[1;32mimport\u001b[0m \u001b[0mnumpy\u001b[0m \u001b[1;32mas\u001b[0m \u001b[0mnp\u001b[0m\u001b[1;33m\u001b[0m\u001b[1;33m\u001b[0m\u001b[0m\n\u001b[1;32m----> 3\u001b[1;33m \u001b[1;32mimport\u001b[0m \u001b[0mpytorch\u001b[0m\u001b[1;33m\u001b[0m\u001b[1;33m\u001b[0m\u001b[0m\n\u001b[0m\u001b[0;32m      4\u001b[0m \u001b[1;33m\u001b[0m\u001b[0m\n\u001b[0;32m      5\u001b[0m \u001b[1;33m\u001b[0m\u001b[0m\n",
      "\u001b[1;31mModuleNotFoundError\u001b[0m: No module named 'pytorch'"
     ]
    }
   ],
   "source": [
    "from PIL import Image\n",
    "import numpy as np\n",
    "import pytorch\n",
    "\n",
    "\n",
    "#读取''''''\n",
    "image = Image.open('83879.jpg')\n",
    "#显示\n",
    "image.show()\n",
    "#保存\n"
   ]
  },
  {
   "cell_type": "code",
   "execution_count": 38,
   "id": "f2764fc0",
   "metadata": {},
   "outputs": [],
   "source": [
    "import PIL.Image as Image\n",
    "import os\n",
    " \n",
    "path = r\"C:\\Users\\wyh196646\\Desktop\\视野检查\\新建文件夹\"\n",
    "save_path = r\"C:\\Users\\wyh196646\\Desktop\\视野检查\\新建文件夹\"\n",
    "for i in os.listdir(path):\n",
    "    img = Image.open(os.path.join(path, i)).convert('RGB')\n",
    "    img.save(os.path.join(save_path, \"result.jpg\"))"
   ]
  },
  {
   "cell_type": "code",
   "execution_count": 40,
   "id": "185d746e",
   "metadata": {},
   "outputs": [],
   "source": [
    "img=Image.open(r'C:\\Users\\wyh196646\\Desktop\\视野检查\\新建文件夹\\result.jpg')"
   ]
  },
  {
   "cell_type": "code",
   "execution_count": 41,
   "id": "2b18e81f",
   "metadata": {},
   "outputs": [],
   "source": [
    "data=np.array(img)"
   ]
  },
  {
   "cell_type": "code",
   "execution_count": 42,
   "id": "75ebf3ee",
   "metadata": {},
   "outputs": [
    {
     "data": {
      "text/plain": [
       "(380, 380, 3)"
      ]
     },
     "execution_count": 42,
     "metadata": {},
     "output_type": "execute_result"
    }
   ],
   "source": [
    "data.shape"
   ]
  },
  {
   "cell_type": "code",
   "execution_count": 9,
   "id": "cc240f2d",
   "metadata": {},
   "outputs": [
    {
     "name": "stdout",
     "output_type": "stream",
     "text": [
      "id(Z): 2420701409216\n",
      "id(Z): 2420785491072\n"
     ]
    }
   ],
   "source": [
    "import torch\n",
    "X=torch.tensor([1.0,2,4,8])\n",
    "Y=torch.tensor([2,2,2,2])\n",
    "Z=torch.zeros_like(Y)\n",
    "print('id(Z):',id(Z))\n",
    "Z=X+Y\n",
    "print('id(Z):',id(Z))"
   ]
  },
  {
   "cell_type": "code",
   "execution_count": 10,
   "id": "7e6c31cc",
   "metadata": {},
   "outputs": [],
   "source": [
    "x=torch.arange(4)"
   ]
  },
  {
   "cell_type": "code",
   "execution_count": 11,
   "id": "c433d2bf",
   "metadata": {},
   "outputs": [
    {
     "data": {
      "text/plain": [
       "tensor([0, 1, 2, 3])"
      ]
     },
     "execution_count": 11,
     "metadata": {},
     "output_type": "execute_result"
    }
   ],
   "source": [
    "x"
   ]
  },
  {
   "cell_type": "code",
   "execution_count": 13,
   "id": "b3f005cb",
   "metadata": {},
   "outputs": [
    {
     "data": {
      "text/plain": [
       "tensor([[0, 1, 2, 3]])"
      ]
     },
     "execution_count": 13,
     "metadata": {},
     "output_type": "execute_result"
    }
   ],
   "source": [
    "x.reshape(1,4)"
   ]
  },
  {
   "cell_type": "code",
   "execution_count": 14,
   "id": "c6a684e4",
   "metadata": {},
   "outputs": [
    {
     "data": {
      "text/plain": [
       "tensor([[0],\n",
       "        [1],\n",
       "        [2],\n",
       "        [3]])"
      ]
     },
     "execution_count": 14,
     "metadata": {},
     "output_type": "execute_result"
    }
   ],
   "source": [
    "x.reshape(4,1)"
   ]
  },
  {
   "cell_type": "code",
   "execution_count": 2,
   "id": "c0c13335",
   "metadata": {},
   "outputs": [],
   "source": [
    "import numpy as np\n",
    "x=np.arange(0,3)"
   ]
  },
  {
   "cell_type": "code",
   "execution_count": 10,
   "id": "898e6fcf",
   "metadata": {},
   "outputs": [
    {
     "data": {
      "text/plain": [
       "array([3, 4, 5])"
      ]
     },
     "execution_count": 10,
     "metadata": {},
     "output_type": "execute_result"
    }
   ],
   "source": [
    "[x][0]"
   ]
  },
  {
   "cell_type": "code",
   "execution_count": 3,
   "id": "6ac08f2b",
   "metadata": {},
   "outputs": [
    {
     "ename": "NameError",
     "evalue": "name 'f' is not defined",
     "output_type": "error",
     "traceback": [
      "\u001b[1;31m---------------------------------------------------------------------------\u001b[0m",
      "\u001b[1;31mNameError\u001b[0m                                 Traceback (most recent call last)",
      "\u001b[1;32m<ipython-input-3-a2105d2284e0>\u001b[0m in \u001b[0;36m<module>\u001b[1;34m\u001b[0m\n\u001b[1;32m----> 1\u001b[1;33m \u001b[1;33m[\u001b[0m\u001b[0mf\u001b[0m\u001b[1;33m(\u001b[0m\u001b[0mx\u001b[0m\u001b[1;33m)\u001b[0m\u001b[1;33m,\u001b[0m\u001b[1;36m2\u001b[0m\u001b[1;33m*\u001b[0m\u001b[0mx\u001b[0m\u001b[1;33m-\u001b[0m\u001b[1;36m3\u001b[0m\u001b[1;33m]\u001b[0m\u001b[1;33m\u001b[0m\u001b[1;33m\u001b[0m\u001b[0m\n\u001b[0m",
      "\u001b[1;31mNameError\u001b[0m: name 'f' is not defined"
     ]
    }
   ],
   "source": [
    "[f(x),2*x-3]"
   ]
  },
  {
   "cell_type": "code",
   "execution_count": 11,
   "id": "0adf0060",
   "metadata": {},
   "outputs": [],
   "source": [
    "import torch \n",
    "x=torch.arange(4.0)"
   ]
  },
  {
   "cell_type": "code",
   "execution_count": 14,
   "id": "8d4142e4",
   "metadata": {},
   "outputs": [],
   "source": [
    "y=2*torch.dot(x,x)"
   ]
  },
  {
   "cell_type": "code",
   "execution_count": 15,
   "id": "605c7153",
   "metadata": {},
   "outputs": [
    {
     "data": {
      "text/plain": [
       "tensor(28.)"
      ]
     },
     "execution_count": 15,
     "metadata": {},
     "output_type": "execute_result"
    }
   ],
   "source": [
    "y"
   ]
  },
  {
   "cell_type": "code",
   "execution_count": null,
   "id": "8f204adc",
   "metadata": {},
   "outputs": [],
   "source": []
  }
 ],
 "metadata": {
  "kernelspec": {
   "display_name": "Python 3",
   "language": "python",
   "name": "python3"
  },
  "language_info": {
   "codemirror_mode": {
    "name": "ipython",
    "version": 3
   },
   "file_extension": ".py",
   "mimetype": "text/x-python",
   "name": "python",
   "nbconvert_exporter": "python",
   "pygments_lexer": "ipython3",
   "version": "3.8.8"
  }
 },
 "nbformat": 4,
 "nbformat_minor": 5
}
