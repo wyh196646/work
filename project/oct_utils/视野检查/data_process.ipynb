{
 "cells": [
  {
   "cell_type": "code",
   "execution_count": 3,
   "id": "80f43986",
   "metadata": {},
   "outputs": [],
   "source": [
    "import os\n",
    "import shutil"
   ]
  },
  {
   "cell_type": "code",
   "execution_count": 4,
   "id": "7ea41027",
   "metadata": {
    "code_folding": [
     5
    ]
   },
   "outputs": [],
   "source": [
    "\n",
    "def searchDirFile(rootDir,saveDir):\n",
    "    for dir_or_file in os.listdir(rootDir):\n",
    "        filePath = os.path.join(rootDir, dir_or_file)\n",
    "        # 判断是否为文件\n",
    "        if os.path.isfile(filePath):\n",
    "            # 如果是文件再判断是否以.jpg结尾，不是则跳过本次循环\n",
    "            if os.path.basename(filePath).endswith('.jpg'):\n",
    "                print('imgBox fileName is '+ os.path.basename(filePath))\n",
    "                # 拷贝jpg文件到自己想要保存的目录下\n",
    "                shutil.copyfile(filePath,os.path.join(saveDir,filePath))\n",
    "            else:\n",
    "                continue\n",
    "        # 如果是个dir，则再次调用此函数，传入当前目录，递归处理。\n",
    "        elif os.path.isdir(filePath):\n",
    "            searchDirFile(filePath,saveDir)\n",
    "        else:print('not file and dir '+os.path.basename(filePath))\n"
   ]
  },
  {
   "cell_type": "code",
   "execution_count": 16,
   "id": "a72f7485",
   "metadata": {},
   "outputs": [],
   "source": [
    "import numpy as np\n",
    "import pandas as pd\n",
    "\n",
    "train_filename = pd.read_csv(\"0820.csv\")    # csv文件\n",
    "# 对csv文件中的filename一列的数据加上后缀.jpg\n",
    "#train_filename['oct_path'] = train_filename['oct_path'].apply(lambda x:\"/home/octusr2/projects/data_fast/proceeded/cp_projection/380/\"+x[0:-3]+'jpg')\n",
    "train_filename['oct_path'] = train_filename['oct_path'].apply(lambda x:x[0:-3]+'jpg')\n",
    "train_filename.to_csv(\"dataset.csv\", index=None)\n"
   ]
  },
  {
   "cell_type": "code",
   "execution_count": 17,
   "id": "10ce443d",
   "metadata": {},
   "outputs": [],
   "source": [
    "data=pd.read_csv(\"dataset.csv\")"
   ]
  },
  {
   "cell_type": "code",
   "execution_count": 18,
   "id": "799155f4",
   "metadata": {},
   "outputs": [
    {
     "data": {
      "text/plain": [
       "'20210730-中山眼科-OCT转VF/CASIA数据汇总-new/CRC-009-143/OS/OCT-后/3D Disc/69627.jpg'"
      ]
     },
     "execution_count": 18,
     "metadata": {},
     "output_type": "execute_result"
    }
   ],
   "source": [
    "data['oct_path'][0]"
   ]
  },
  {
   "cell_type": "code",
   "execution_count": null,
   "id": "9f195537",
   "metadata": {},
   "outputs": [],
   "source": []
  }
 ],
 "metadata": {
  "kernelspec": {
   "display_name": "Python 3",
   "language": "python",
   "name": "python3"
  },
  "language_info": {
   "codemirror_mode": {
    "name": "ipython",
    "version": 3
   },
   "file_extension": ".py",
   "mimetype": "text/x-python",
   "name": "python",
   "nbconvert_exporter": "python",
   "pygments_lexer": "ipython3",
   "version": "3.8.8"
  }
 },
 "nbformat": 4,
 "nbformat_minor": 5
}
